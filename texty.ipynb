{
 "cells": [
  {
   "cell_type": "code",
   "execution_count": null,
   "metadata": {},
   "outputs": [],
   "source": [
    "import pandas as pd\n",
    "import numpy as np\n",
    "from pandas.io.json import json_normalize\n",
    "import nltk\n",
    "import re\n",
    "from gensim.models.doc2vec import Doc2Vec, TaggedDocument"
   ]
  },
  {
   "cell_type": "code",
   "execution_count": null,
   "metadata": {},
   "outputs": [],
   "source": [
    "json = pd.read_json(\"dataset.json\")"
   ]
  },
  {
   "cell_type": "code",
   "execution_count": null,
   "metadata": {},
   "outputs": [],
   "source": [
    "\n",
    "nltk.download('punkt')\n",
    "\n",
    "raw_data = []\n",
    "\n",
    "for item in json.REUTERS:\n",
    "    if 'BODY' in item['TEXT']:\n",
    "        raw_data.append(item['TEXT']['BODY'])\n"
   ]
  },
  {
   "cell_type": "code",
   "execution_count": null,
   "metadata": {},
   "outputs": [],
   "source": [
    "data = []\n",
    "\n",
    "for i, s in enumerate(raw_data):\n",
    "    data.append(nltk.word_tokenize(raw_data[i]))\n",
    "\n",
    "data\n",
    "\n"
   ]
  },
  {
   "cell_type": "code",
   "execution_count": null,
   "metadata": {},
   "outputs": [
    {
     "name": "stderr",
     "output_type": "stream",
     "text": [
      "C:\\ProgramData\\Anaconda3\\lib\\site-packages\\gensim\\models\\base_any2vec.py:743: UserWarning: C extension not loaded, training will be slow. Install a C compiler and reinstall gensim for fast training.\n",
      "  \"C extension not loaded, training will be slow. \"\n"
     ]
    }
   ],
   "source": [
    "articles = [TaggedDocument(doc, [i]) for i, doc in enumerate(data)]\n",
    "article_model = Doc2Vec(articles, vector_size=10, window=5, min_count=3, workers=4)\n",
    "article_vectors = list(map(article_model.infer_vector, data))"
   ]
  },
  {
   "cell_type": "code",
   "execution_count": 6,
   "metadata": {},
   "outputs": [],
   "source": [
    "from sklearn.decomposition import PCA\n",
    "\n",
    "pca = PCA(n_components=3)\n",
    "pca_result = pca.fit_transform(article_vectors)\n",
    "x_pca = pca_result[:,0]\n",
    "y_pca = pca_result[:,1]\n",
    "\n",
    "essay_2d = pd.DataFrame(data={\n",
    "    'x': (x_pca-min(x_pca))/(max(x_pca)-min(x_pca)),\n",
    "    'y':(y_pca-min(y_pca))/(max(y_pca)-min(y_pca))\n",
    "})"
   ]
  },
  {
   "cell_type": "code",
   "execution_count": 7,
   "metadata": {},
   "outputs": [
    {
     "data": {
      "text/plain": [
       "<matplotlib.collections.PathCollection at 0x24702e11518>"
      ]
     },
     "execution_count": 7,
     "metadata": {},
     "output_type": "execute_result"
    }
   ],
   "source": [
    "from mpl_toolkits import mplot3d\n",
    "import matplotlib.pyplot as plt\n",
    "\n",
    "ax = plt.axes()\n",
    "\n",
    "ax.scatter(essay_2d['x'], essay_2d['y'], alpha=0.2, c='blue', edgecolors='none', s=20)"
   ]
  },
  {
   "cell_type": "code",
   "execution_count": 8,
   "metadata": {},
   "outputs": [],
   "source": [
    "def visualize_clusters(df,x,y, cluster_id):\n",
    "    ax1 = plt.axes()\n",
    "    colors = ['blue', 'orange', 'green', 'red', 'purple', 'brown', 'pink', 'gray', 'olive', 'cyan']\n",
    "    for i in range(0,9):\n",
    "        ax1.scatter(\n",
    "            df[x][df[cluster_id].astype('int') == i], \n",
    "            df[y][df[cluster_id].astype('int') == i], \n",
    "            alpha=1, c=colors[i],\n",
    "            s=3, \n",
    "            label=i)\n",
    "    ax1.scatter(\n",
    "            df[x][df[cluster_id].astype('int') > 9], \n",
    "            df[y][df[cluster_id].astype('int') > 9], \n",
    "            alpha=1, c='black',\n",
    "            s=3, \n",
    "            label=i)"
   ]
  },
  {
   "cell_type": "code",
   "execution_count": null,
   "metadata": {},
   "outputs": [],
   "source": [
    "from sklearn.cluster import KMeans\n",
    "\n",
    "kmeans = KMeans(n_clusters=9).fit(article_vectors)\n",
    "\n",
    "d = {'k_means_predicted':None, 'x':x_pca, 'y':y_pca}\n",
    "df1 = pd.DataFrame(d)\n",
    "\n",
    "df1['k_means_predicted'] = kmeans.labels_\n",
    "visualize_clusters(df1, 'x', 'y', 'k_means_predicted')"
   ]
  },
  {
   "cell_type": "code",
   "execution_count": null,
   "metadata": {},
   "outputs": [],
   "source": []
  }
 ],
 "metadata": {
  "kernelspec": {
   "display_name": "Python 3",
   "language": "python",
   "name": "python3"
  },
  "language_info": {
   "codemirror_mode": {
    "name": "ipython",
    "version": 3
   },
   "file_extension": ".py",
   "mimetype": "text/x-python",
   "name": "python",
   "nbconvert_exporter": "python",
   "pygments_lexer": "ipython3",
   "version": "3.7.0"
  }
 },
 "nbformat": 4,
 "nbformat_minor": 2
}
