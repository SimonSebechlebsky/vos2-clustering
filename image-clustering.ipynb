{
 "cells": [
  {
   "cell_type": "markdown",
   "metadata": {},
   "source": [
    "# Image Clustering - Timotej Zatko"
   ]
  },
  {
   "cell_type": "markdown",
   "metadata": {},
   "source": [
    "Dokument obsahuje 3. Odovzdanie, 4. Odovzdanie a 5. Odovzdanie. Prve a druhe boli vo frome slajdov."
   ]
  },
  {
   "cell_type": "markdown",
   "metadata": {},
   "source": [
    "## 3. Odovzdanie"
   ]
  },
  {
   "cell_type": "code",
   "execution_count": 1,
   "metadata": {},
   "outputs": [],
   "source": [
    "from PIL import Image\n",
    "from os import listdir\n",
    "from matplotlib.pyplot import imshow\n",
    "import matplotlib.pyplot as plt\n",
    "import pandas as pd\n",
    "\n",
    "import numpy as np\n",
    "import pickle\n",
    "\n",
    "from functools import cmp_to_key\n",
    "\n",
    "import seaborn as sb\n",
    "\n",
    "from sklearn.cluster import KMeans"
   ]
  },
  {
   "cell_type": "code",
   "execution_count": 2,
   "metadata": {},
   "outputs": [],
   "source": [
    "from scipy.cluster.vq import *"
   ]
  },
  {
   "cell_type": "markdown",
   "metadata": {},
   "source": [
    "Importneme to co potrebujeme..."
   ]
  },
  {
   "cell_type": "markdown",
   "metadata": {},
   "source": [
    "Nacitame si obrazky."
   ]
  },
  {
   "cell_type": "code",
   "execution_count": 3,
   "metadata": {},
   "outputs": [],
   "source": [
    "def fn(x, y):\n",
    "    fileName1 = x.split('.')[0]\n",
    "    fileName2 = y.split('.')[0]\n",
    "    return int(fileName1) - int(fileName2)\n",
    "    \n",
    "\n",
    "images = list(filter(lambda a: a.find('.png') != -1, listdir('font-images/data')))\n",
    "images = sorted(images, key=cmp_to_key(fn))\n",
    "\n",
    "images = list(map(lambda a: 'font-images/data/' + a, images))"
   ]
  },
  {
   "cell_type": "markdown",
   "metadata": {},
   "source": [
    "Takto vyzeraju moje data... (sam som si ich nascrapoval :))"
   ]
  },
  {
   "cell_type": "code",
   "execution_count": 4,
   "metadata": {},
   "outputs": [],
   "source": [
    "def alphabet(k):\n",
    "    fig = plt.figure(figsize=(13, 2))\n",
    "    s = k * 26\n",
    "\n",
    "    for i in range(0, 26):\n",
    "        img = np.array(Image.open(images[s + i], 'r'))\n",
    "        fig.add_subplot(2, 13, i + 1)\n",
    "        plt.imshow(img)\n",
    "\n",
    "    plt.show()"
   ]
  },
  {
   "cell_type": "code",
   "execution_count": 5,
   "metadata": {},
   "outputs": [
    {
     "name": "stdout",
     "output_type": "stream",
     "text": [
      "Mame celkovo 16 typov fontov.\n"
     ]
    }
   ],
   "source": [
    "print(\"Mame celkovo \" + str(int(len(images) / 26)) + \" typov fontov.\");"
   ]
  },
  {
   "cell_type": "code",
   "execution_count": 6,
   "metadata": {},
   "outputs": [
    {
     "data": {
      "image/png": "[encoded data removed]",
      "text/plain": [
       "<Figure size 936x144 with 26 Axes>"
      ]
     },
     "metadata": {
      "needs_background": "light"
     },
     "output_type": "display_data"
    }
   ],
   "source": [
    "alphabet(0)"
   ]
  },
  {
   "cell_type": "code",
   "execution_count": 7,
   "metadata": {},
   "outputs": [
    {
     "data": {
      "image/png": "[encoded data removed]",
      "text/plain": [
       "<Figure size 936x144 with 26 Axes>"
      ]
     },
     "metadata": {
      "needs_background": "light"
     },
     "output_type": "display_data"
    }
   ],
   "source": [
    "alphabet(8)"
   ]
  },
  {
   "cell_type": "markdown",
   "metadata": {},
   "source": [
    "Spracujeme obrazky..."
   ]
  },
  {
   "cell_type": "code",
   "execution_count": 8,
   "metadata": {},
   "outputs": [],
   "source": [
    "immatrix = np.array([np.array(Image.open(im)).flatten() for im in images], 'f')"
   ]
  },
  {
   "cell_type": "markdown",
   "metadata": {},
   "source": [
    "Zoberieme KMeans."
   ]
  },
  {
   "cell_type": "code",
   "execution_count": 9,
   "metadata": {},
   "outputs": [],
   "source": [
    "cls = KMeans(n_clusters=26, random_state=420)"
   ]
  },
  {
   "cell_type": "markdown",
   "metadata": {},
   "source": [
    "Polozime fit funkciu."
   ]
  },
  {
   "cell_type": "code",
   "execution_count": 10,
   "metadata": {},
   "outputs": [],
   "source": [
    "kmeans = cls.fit(immatrix)"
   ]
  },
  {
   "cell_type": "markdown",
   "metadata": {},
   "source": [
    "Idem pozriet clustre, napr. ten prvy."
   ]
  },
  {
   "cell_type": "code",
   "execution_count": 11,
   "metadata": {},
   "outputs": [
    {
     "data": {
      "text/plain": [
       "array([ 8,  8,  8,  8,  8,  5,  8,  8,  5, 20,  3,  5, 15,  8,  8,  8,  8,\n",
       "        6,  8,  5,  8, 14,  7,  3,  1,  3,  0,  0, 22, 17, 22, 20, 22,  0,\n",
       "       20, 20, 10, 20, 12,  0, 17,  0, 17, 14, 22, 20,  0, 13, 18, 24, 13,\n",
       "       24,  0,  0, 22, 17, 22, 20, 22,  0, 20, 20, 10, 20, 12,  0, 17,  0,\n",
       "       17, 14, 22, 20,  0, 13, 18, 24, 13, 24, 23, 19, 23, 19, 23, 20, 23,\n",
       "       19, 20, 20, 14, 20, 12, 19, 19, 19, 19, 14, 23,  6, 19, 13, 18, 14,\n",
       "       13, 24,  2,  2,  2,  2,  2,  6, 25,  2,  5, 20,  3,  5, 15,  2,  2,\n",
       "        2,  2,  6,  3,  6,  2,  1,  7, 14,  1, 14,  9, 11,  9,  9,  9,  5,\n",
       "        9, 11,  5, 20,  3,  5, 15, 11,  9, 11,  9,  6,  3,  6,  9,  1,  7,\n",
       "       14,  1, 14,  4,  4,  8,  4,  4, 16,  4,  4, 16, 16,  4, 16, 21,  4,\n",
       "        4,  4,  4,  6,  4, 16,  4,  4, 21,  3,  4,  3, 25, 25, 25,  8, 25,\n",
       "        5,  8, 25,  5, 20,  3,  5, 15, 25,  8, 25,  8,  6, 25,  5, 25, 14,\n",
       "        7,  3, 14,  3, 10, 10, 10, 10, 10, 20, 10, 10, 20, 20, 10, 20, 20,\n",
       "       10, 10, 10, 10, 14, 24, 20, 10, 13,  0, 24, 13, 24,  2,  2,  6,  2,\n",
       "        2,  5, 23,  2,  5, 20,  3,  5, 15,  2,  2,  2,  2,  6,  3,  6,  2,\n",
       "        1,  7, 14,  1, 14,  2,  2,  2,  2,  2,  6,  2, 19,  5, 20,  3,  5,\n",
       "       12,  2,  2,  2,  2,  6,  2,  6,  2,  1,  7, 14,  2, 14,  9, 11,  9,\n",
       "        9,  9,  5,  9, 11,  5, 20,  3,  5, 15, 11,  9, 11,  9,  6,  3,  6,\n",
       "        9,  1,  7,  3,  1, 14, 23, 23, 23, 23, 23, 20, 23, 19, 20, 20, 14,\n",
       "       20, 12, 19, 23, 23, 23,  6, 23,  6,  2,  1,  7, 14,  1, 14,  9, 11,\n",
       "        9,  9,  9,  5,  9, 11,  5, 20,  3,  5, 15, 11,  9, 11,  9,  6,  3,\n",
       "        6,  9,  1,  7, 14,  1, 14, 23, 19, 23, 19, 23, 20, 19, 19, 20, 20,\n",
       "       23, 20, 12, 19, 19, 23, 19,  6, 23, 20, 19,  1,  7, 14,  1, 14, 25,\n",
       "       25, 25,  8, 25,  5, 25, 25,  5, 20,  3,  5, 15, 25, 25, 25, 25,  6,\n",
       "        3,  5, 25,  1,  7,  3,  1,  3], dtype=int32)"
      ]
     },
     "execution_count": 11,
     "metadata": {},
     "output_type": "execute_result"
    }
   ],
   "source": [
    "clusters = kmeans.labels_\n",
    "clusters"
   ]
  },
  {
   "cell_type": "code",
   "execution_count": 12,
   "metadata": {},
   "outputs": [],
   "source": [
    "def print_cluster(num):\n",
    "    cluster = list(filter(lambda cluster_num: cluster_num[1] == num, enumerate(clusters)))\n",
    "    size = len(cluster)\n",
    "    \n",
    "    fig = plt.figure(figsize=(20, 10))\n",
    "    i = 0\n",
    "\n",
    "    for image in cluster:\n",
    "        i = i + 1\n",
    "        img = np.array(Image.open(images[image[0]], 'r'))\n",
    "        fig.add_subplot(10, 20, i)\n",
    "        plt.imshow(img)"
   ]
  },
  {
   "cell_type": "markdown",
   "metadata": {},
   "source": [
    "Pozrieme sa na prvy cluster."
   ]
  },
  {
   "cell_type": "code",
   "execution_count": 13,
   "metadata": {},
   "outputs": [
    {
     "data": {
      "image/png": "[encoded data removed]",
      "text/plain": [
       "<Figure size 1440x720 with 18 Axes>"
      ]
     },
     "metadata": {
      "needs_background": "light"
     },
     "output_type": "display_data"
    }
   ],
   "source": [
    "print_cluster(1)"
   ]
  },
  {
   "cell_type": "markdown",
   "metadata": {},
   "source": [
    "Looool, vyzera to celkom dobre, vacisnu tam je _j_ , je tam aj _i_ co este chapem. Ale co tam robi _f, m a t (wtf?)_."
   ]
  },
  {
   "cell_type": "code",
   "execution_count": 14,
   "metadata": {},
   "outputs": [
    {
     "data": {
      "image/png": "[encoded data removed]",
      "text/plain": [
       "<Figure size 1440x720 with 35 Axes>"
      ]
     },
     "metadata": {
      "needs_background": "light"
     },
     "output_type": "display_data"
    }
   ],
   "source": [
    "print_cluster(2)"
   ]
  },
  {
   "cell_type": "markdown",
   "metadata": {},
   "source": [
    "Druhy cluster nespravilo uplne najlepsie, ale celkom moze byt. Mozem pozriet aj ostatne, ale neviem aky by to malo dalej zmysel."
   ]
  },
  {
   "cell_type": "markdown",
   "metadata": {},
   "source": [
    "Dufal som ze budem vediet rozoznat pismena z roznych fontov, to sa mi zial uplne nepodarilo."
   ]
  },
  {
   "cell_type": "markdown",
   "metadata": {},
   "source": [
    "Nabuduce to budem moct skusit vylepsit, alebo mozem skusit rozpoznavat cisla z roznych fontov. Mozem skusit rozne pristupy klastrovania a predspracovania (i ked to nebude treba) tych obrazkov, uvidime. :)"
   ]
  },
  {
   "cell_type": "markdown",
   "metadata": {},
   "source": [
    "TODO: Pozriet velkosti zhukov. Pridat informacie do dat - napriklad. shapy - obluky, rovne ciary, atd. Vyhodnotenie clustrov. Clustrovanie cisiel. Skusit mozno DBSCAN... Porovnat vysledky..."
   ]
  },
  {
   "cell_type": "markdown",
   "metadata": {},
   "source": [
    "## 4. Odovzdanie"
   ]
  },
  {
   "cell_type": "markdown",
   "metadata": {},
   "source": [
    "Pozriem sa najskor na velkosti clustrov."
   ]
  },
  {
   "cell_type": "code",
   "execution_count": 15,
   "metadata": {},
   "outputs": [
    {
     "data": {
      "text/html": [
       "<div>\n",
       "<style scoped>\n",
       "    .dataframe tbody tr th:only-of-type {\n",
       "        vertical-align: middle;\n",
       "    }\n",
       "\n",
       "    .dataframe tbody tr th {\n",
       "        vertical-align: top;\n",
       "    }\n",
       "\n",
       "    .dataframe thead th {\n",
       "        text-align: right;\n",
       "    }\n",
       "</style>\n",
       "<table border=\"1\" class=\"dataframe\">\n",
       "  <thead>\n",
       "    <tr style=\"text-align: right;\">\n",
       "      <th></th>\n",
       "      <th>number of items</th>\n",
       "    </tr>\n",
       "    <tr>\n",
       "      <th>cluster number</th>\n",
       "      <th></th>\n",
       "    </tr>\n",
       "  </thead>\n",
       "  <tbody>\n",
       "    <tr>\n",
       "      <th>0</th>\n",
       "      <td>13</td>\n",
       "    </tr>\n",
       "    <tr>\n",
       "      <th>1</th>\n",
       "      <td>18</td>\n",
       "    </tr>\n",
       "    <tr>\n",
       "      <th>2</th>\n",
       "      <td>35</td>\n",
       "    </tr>\n",
       "    <tr>\n",
       "      <th>3</th>\n",
       "      <td>24</td>\n",
       "    </tr>\n",
       "    <tr>\n",
       "      <th>4</th>\n",
       "      <td>15</td>\n",
       "    </tr>\n",
       "    <tr>\n",
       "      <th>5</th>\n",
       "      <td>28</td>\n",
       "    </tr>\n",
       "    <tr>\n",
       "      <th>6</th>\n",
       "      <td>23</td>\n",
       "    </tr>\n",
       "    <tr>\n",
       "      <th>7</th>\n",
       "      <td>11</td>\n",
       "    </tr>\n",
       "    <tr>\n",
       "      <th>8</th>\n",
       "      <td>19</td>\n",
       "    </tr>\n",
       "    <tr>\n",
       "      <th>9</th>\n",
       "      <td>24</td>\n",
       "    </tr>\n",
       "    <tr>\n",
       "      <th>10</th>\n",
       "      <td>15</td>\n",
       "    </tr>\n",
       "    <tr>\n",
       "      <th>11</th>\n",
       "      <td>12</td>\n",
       "    </tr>\n",
       "    <tr>\n",
       "      <th>12</th>\n",
       "      <td>6</td>\n",
       "    </tr>\n",
       "    <tr>\n",
       "      <th>13</th>\n",
       "      <td>8</td>\n",
       "    </tr>\n",
       "    <tr>\n",
       "      <th>14</th>\n",
       "      <td>25</td>\n",
       "    </tr>\n",
       "    <tr>\n",
       "      <th>15</th>\n",
       "      <td>8</td>\n",
       "    </tr>\n",
       "    <tr>\n",
       "      <th>16</th>\n",
       "      <td>5</td>\n",
       "    </tr>\n",
       "    <tr>\n",
       "      <th>17</th>\n",
       "      <td>6</td>\n",
       "    </tr>\n",
       "    <tr>\n",
       "      <th>18</th>\n",
       "      <td>3</td>\n",
       "    </tr>\n",
       "    <tr>\n",
       "      <th>19</th>\n",
       "      <td>19</td>\n",
       "    </tr>\n",
       "    <tr>\n",
       "      <th>20</th>\n",
       "      <td>38</td>\n",
       "    </tr>\n",
       "    <tr>\n",
       "      <th>21</th>\n",
       "      <td>2</td>\n",
       "    </tr>\n",
       "    <tr>\n",
       "      <th>22</th>\n",
       "      <td>8</td>\n",
       "    </tr>\n",
       "    <tr>\n",
       "      <th>23</th>\n",
       "      <td>22</td>\n",
       "    </tr>\n",
       "    <tr>\n",
       "      <th>24</th>\n",
       "      <td>8</td>\n",
       "    </tr>\n",
       "    <tr>\n",
       "      <th>25</th>\n",
       "      <td>21</td>\n",
       "    </tr>\n",
       "  </tbody>\n",
       "</table>\n",
       "</div>"
      ],
      "text/plain": [
       "                number of items\n",
       "cluster number                 \n",
       "0                            13\n",
       "1                            18\n",
       "2                            35\n",
       "3                            24\n",
       "4                            15\n",
       "5                            28\n",
       "6                            23\n",
       "7                            11\n",
       "8                            19\n",
       "9                            24\n",
       "10                           15\n",
       "11                           12\n",
       "12                            6\n",
       "13                            8\n",
       "14                           25\n",
       "15                            8\n",
       "16                            5\n",
       "17                            6\n",
       "18                            3\n",
       "19                           19\n",
       "20                           38\n",
       "21                            2\n",
       "22                            8\n",
       "23                           22\n",
       "24                            8\n",
       "25                           21"
      ]
     },
     "execution_count": 15,
     "metadata": {},
     "output_type": "execute_result"
    }
   ],
   "source": [
    "from functools import *\n",
    "\n",
    "\n",
    "def get_cluster_sizes(clusters):\n",
    "    def fn(obj, num):\n",
    "        obj[num] = 1 if not num in obj else obj[num] + 1\n",
    "        return obj\n",
    "    \n",
    "    sizes = reduce(fn, clusters, {})\n",
    "\n",
    "    df = pd.DataFrame({ 'cluster number': list(sizes.keys()), 'number of items': list(sizes.values()) }, columns=['cluster number', 'number of items'])\n",
    "    df = df.set_index('cluster number').sort_index()\n",
    "    return df\n",
    "    \n",
    "    \n",
    "df = get_cluster_sizes(clusters)\n",
    "df"
   ]
  },
  {
   "cell_type": "markdown",
   "metadata": {},
   "source": [
    "Velkosti clustrov vizualizujem."
   ]
  },
  {
   "cell_type": "code",
   "execution_count": 16,
   "metadata": {},
   "outputs": [],
   "source": [
    "def visualise_cluster_sizes_1(df):\n",
    "    df.plot.bar(y='number of items', rot=0)\n",
    "    \n",
    "def visualise_cluster_sizes_2(df):\n",
    "    df.boxplot(column='number of items')"
   ]
  },
  {
   "cell_type": "code",
   "execution_count": 17,
   "metadata": {},
   "outputs": [
    {
     "data": {
      "image/png": "[encoded data removed]",
      "text/plain": [
       "<Figure size 432x288 with 1 Axes>"
      ]
     },
     "metadata": {
      "needs_background": "light"
     },
     "output_type": "display_data"
    }
   ],
   "source": [
    "visualise_cluster_sizes_1(df)"
   ]
  },
  {
   "cell_type": "code",
   "execution_count": 18,
   "metadata": {
    "scrolled": true
   },
   "outputs": [
    {
     "data": {
      "image/png": "[encoded data removed]",
      "text/plain": [
       "<Figure size 432x288 with 1 Axes>"
      ]
     },
     "metadata": {
      "needs_background": "light"
     },
     "output_type": "display_data"
    }
   ],
   "source": [
    "visualise_cluster_sizes_2(df)"
   ]
  },
  {
   "cell_type": "markdown",
   "metadata": {},
   "source": [
    "Takze, vidime ze mame v niektorych clustroch prilis vela znakov, v inych velmi malo. To nieje co by sme chceli."
   ]
  },
  {
   "cell_type": "markdown",
   "metadata": {},
   "source": [
    "Skusim vyhodnotit moj cluster, o labelujem si svoj cluster. Budem merat ako dobre sa mi podarilo zaradit pismeno do clustra toho pismena."
   ]
  },
  {
   "cell_type": "code",
   "execution_count": 19,
   "metadata": {},
   "outputs": [
    {
     "data": {
      "text/plain": [
       "[0,\n",
       " 1,\n",
       " 2,\n",
       " 3,\n",
       " 4,\n",
       " 5,\n",
       " 6,\n",
       " 7,\n",
       " 8,\n",
       " 9,\n",
       " 10,\n",
       " 11,\n",
       " 12,\n",
       " 13,\n",
       " 14,\n",
       " 15,\n",
       " 16,\n",
       " 17,\n",
       " 18,\n",
       " 19,\n",
       " 20,\n",
       " 21,\n",
       " 22,\n",
       " 23,\n",
       " 24,\n",
       " 25,\n",
       " 0,\n",
       " 1,\n",
       " 2,\n",
       " 3,\n",
       " 4,\n",
       " 5,\n",
       " 6,\n",
       " 7,\n",
       " 8,\n",
       " 9,\n",
       " 10,\n",
       " 11,\n",
       " 12,\n",
       " 13,\n",
       " 14,\n",
       " 15,\n",
       " 16,\n",
       " 17,\n",
       " 18,\n",
       " 19,\n",
       " 20,\n",
       " 21,\n",
       " 22,\n",
       " 23,\n",
       " 24,\n",
       " 25,\n",
       " 0,\n",
       " 1,\n",
       " 2,\n",
       " 3,\n",
       " 4,\n",
       " 5,\n",
       " 6,\n",
       " 7,\n",
       " 8,\n",
       " 9,\n",
       " 10,\n",
       " 11,\n",
       " 12,\n",
       " 13,\n",
       " 14,\n",
       " 15,\n",
       " 16,\n",
       " 17,\n",
       " 18,\n",
       " 19,\n",
       " 20,\n",
       " 21,\n",
       " 22,\n",
       " 23,\n",
       " 24,\n",
       " 25,\n",
       " 0,\n",
       " 1,\n",
       " 2,\n",
       " 3,\n",
       " 4,\n",
       " 5,\n",
       " 6,\n",
       " 7,\n",
       " 8,\n",
       " 9,\n",
       " 10,\n",
       " 11,\n",
       " 12,\n",
       " 13,\n",
       " 14,\n",
       " 15,\n",
       " 16,\n",
       " 17,\n",
       " 18,\n",
       " 19,\n",
       " 20,\n",
       " 21,\n",
       " 22,\n",
       " 23,\n",
       " 24,\n",
       " 25,\n",
       " 0,\n",
       " 1,\n",
       " 2,\n",
       " 3,\n",
       " 4,\n",
       " 5,\n",
       " 6,\n",
       " 7,\n",
       " 8,\n",
       " 9,\n",
       " 10,\n",
       " 11,\n",
       " 12,\n",
       " 13,\n",
       " 14,\n",
       " 15,\n",
       " 16,\n",
       " 17,\n",
       " 18,\n",
       " 19,\n",
       " 20,\n",
       " 21,\n",
       " 22,\n",
       " 23,\n",
       " 24,\n",
       " 25,\n",
       " 0,\n",
       " 1,\n",
       " 2,\n",
       " 3,\n",
       " 4,\n",
       " 5,\n",
       " 6,\n",
       " 7,\n",
       " 8,\n",
       " 9,\n",
       " 10,\n",
       " 11,\n",
       " 12,\n",
       " 13,\n",
       " 14,\n",
       " 15,\n",
       " 16,\n",
       " 17,\n",
       " 18,\n",
       " 19,\n",
       " 20,\n",
       " 21,\n",
       " 22,\n",
       " 23,\n",
       " 24,\n",
       " 25,\n",
       " 0,\n",
       " 1,\n",
       " 2,\n",
       " 3,\n",
       " 4,\n",
       " 5,\n",
       " 6,\n",
       " 7,\n",
       " 8,\n",
       " 9,\n",
       " 10,\n",
       " 11,\n",
       " 12,\n",
       " 13,\n",
       " 14,\n",
       " 15,\n",
       " 16,\n",
       " 17,\n",
       " 18,\n",
       " 19,\n",
       " 20,\n",
       " 21,\n",
       " 22,\n",
       " 23,\n",
       " 24,\n",
       " 25,\n",
       " 0,\n",
       " 1,\n",
       " 2,\n",
       " 3,\n",
       " 4,\n",
       " 5,\n",
       " 6,\n",
       " 7,\n",
       " 8,\n",
       " 9,\n",
       " 10,\n",
       " 11,\n",
       " 12,\n",
       " 13,\n",
       " 14,\n",
       " 15,\n",
       " 16,\n",
       " 17,\n",
       " 18,\n",
       " 19,\n",
       " 20,\n",
       " 21,\n",
       " 22,\n",
       " 23,\n",
       " 24,\n",
       " 25,\n",
       " 0,\n",
       " 1,\n",
       " 2,\n",
       " 3,\n",
       " 4,\n",
       " 5,\n",
       " 6,\n",
       " 7,\n",
       " 8,\n",
       " 9,\n",
       " 10,\n",
       " 11,\n",
       " 12,\n",
       " 13,\n",
       " 14,\n",
       " 15,\n",
       " 16,\n",
       " 17,\n",
       " 18,\n",
       " 19,\n",
       " 20,\n",
       " 21,\n",
       " 22,\n",
       " 23,\n",
       " 24,\n",
       " 25,\n",
       " 0,\n",
       " 1,\n",
       " 2,\n",
       " 3,\n",
       " 4,\n",
       " 5,\n",
       " 6,\n",
       " 7,\n",
       " 8,\n",
       " 9,\n",
       " 10,\n",
       " 11,\n",
       " 12,\n",
       " 13,\n",
       " 14,\n",
       " 15,\n",
       " 16,\n",
       " 17,\n",
       " 18,\n",
       " 19,\n",
       " 20,\n",
       " 21,\n",
       " 22,\n",
       " 23,\n",
       " 24,\n",
       " 25,\n",
       " 0,\n",
       " 1,\n",
       " 2,\n",
       " 3,\n",
       " 4,\n",
       " 5,\n",
       " 6,\n",
       " 7,\n",
       " 8,\n",
       " 9,\n",
       " 10,\n",
       " 11,\n",
       " 12,\n",
       " 13,\n",
       " 14,\n",
       " 15,\n",
       " 16,\n",
       " 17,\n",
       " 18,\n",
       " 19,\n",
       " 20,\n",
       " 21,\n",
       " 22,\n",
       " 23,\n",
       " 24,\n",
       " 25,\n",
       " 0,\n",
       " 1,\n",
       " 2,\n",
       " 3,\n",
       " 4,\n",
       " 5,\n",
       " 6,\n",
       " 7,\n",
       " 8,\n",
       " 9,\n",
       " 10,\n",
       " 11,\n",
       " 12,\n",
       " 13,\n",
       " 14,\n",
       " 15,\n",
       " 16,\n",
       " 17,\n",
       " 18,\n",
       " 19,\n",
       " 20,\n",
       " 21,\n",
       " 22,\n",
       " 23,\n",
       " 24,\n",
       " 25,\n",
       " 0,\n",
       " 1,\n",
       " 2,\n",
       " 3,\n",
       " 4,\n",
       " 5,\n",
       " 6,\n",
       " 7,\n",
       " 8,\n",
       " 9,\n",
       " 10,\n",
       " 11,\n",
       " 12,\n",
       " 13,\n",
       " 14,\n",
       " 15,\n",
       " 16,\n",
       " 17,\n",
       " 18,\n",
       " 19,\n",
       " 20,\n",
       " 21,\n",
       " 22,\n",
       " 23,\n",
       " 24,\n",
       " 25,\n",
       " 0,\n",
       " 1,\n",
       " 2,\n",
       " 3,\n",
       " 4,\n",
       " 5,\n",
       " 6,\n",
       " 7,\n",
       " 8,\n",
       " 9,\n",
       " 10,\n",
       " 11,\n",
       " 12,\n",
       " 13,\n",
       " 14,\n",
       " 15,\n",
       " 16,\n",
       " 17,\n",
       " 18,\n",
       " 19,\n",
       " 20,\n",
       " 21,\n",
       " 22,\n",
       " 23,\n",
       " 24,\n",
       " 25,\n",
       " 0,\n",
       " 1,\n",
       " 2,\n",
       " 3,\n",
       " 4,\n",
       " 5,\n",
       " 6,\n",
       " 7,\n",
       " 8,\n",
       " 9,\n",
       " 10,\n",
       " 11,\n",
       " 12,\n",
       " 13,\n",
       " 14,\n",
       " 15,\n",
       " 16,\n",
       " 17,\n",
       " 18,\n",
       " 19,\n",
       " 20,\n",
       " 21,\n",
       " 22,\n",
       " 23,\n",
       " 24,\n",
       " 25,\n",
       " 0,\n",
       " 1,\n",
       " 2,\n",
       " 3,\n",
       " 4,\n",
       " 5,\n",
       " 6,\n",
       " 7,\n",
       " 8,\n",
       " 9,\n",
       " 10,\n",
       " 11,\n",
       " 12,\n",
       " 13,\n",
       " 14,\n",
       " 15,\n",
       " 16,\n",
       " 17,\n",
       " 18,\n",
       " 19,\n",
       " 20,\n",
       " 21,\n",
       " 22,\n",
       " 23,\n",
       " 24,\n",
       " 25]"
      ]
     },
     "execution_count": 19,
     "metadata": {},
     "output_type": "execute_result"
    }
   ],
   "source": [
    "y_test = list(map(lambda x: x[0] % 26, enumerate(immatrix)))\n",
    "y_test"
   ]
  },
  {
   "cell_type": "code",
   "execution_count": 20,
   "metadata": {},
   "outputs": [],
   "source": [
    "from sklearn.metrics import homogeneity_score, completeness_score\n",
    "\n",
    "def score(truth, prediction):\n",
    "    print('homogeneity_score:', homogeneity_score(truth, prediction))\n",
    "    print('completeness_score:', completeness_score(truth, prediction))"
   ]
  },
  {
   "cell_type": "markdown",
   "metadata": {},
   "source": [
    "Kedze mame uz teda clustre olablovane, mozeme pouzit supervised metriku.\n",
    "\n",
    "Pouzijeme na to homogeneity_score a completeness_score.\n",
    "\n",
    "\"Homogeneity metric of a cluster labeling given a ground truth.\n",
    "\n",
    "A clustering result satisfies homogeneity if all of its clusters contain only data points which are members of a single class.\"\n",
    "https://scikit-learn.org/stable/modules/generated/sklearn.metrics.homogeneity_score.html\n",
    "\n",
    "\"A clustering result satisfies completeness if all the data points that are members of a given class are elements of the same cluster.\""
   ]
  },
  {
   "cell_type": "code",
   "execution_count": 21,
   "metadata": {},
   "outputs": [
    {
     "name": "stdout",
     "output_type": "stream",
     "text": [
      "homogeneity_score: 0.4886783147398281\n",
      "completeness_score: 0.5173490487166529\n"
     ]
    }
   ],
   "source": [
    "score(y_test, clusters)"
   ]
  },
  {
   "cell_type": "markdown",
   "metadata": {},
   "source": [
    "Idealne skore je aby homogeneity_score bolo 1 a zaroven completeness_score bolo 1."
   ]
  },
  {
   "cell_type": "markdown",
   "metadata": {},
   "source": [
    "Skusim extrahovat z pixelov pocet bielych ploch. Takto mozem napriklad rozlisi pismeno c od d."
   ]
  },
  {
   "cell_type": "code",
   "execution_count": 22,
   "metadata": {},
   "outputs": [],
   "source": [
    "import collections\n",
    "\n",
    "def get_images_white_board_counts(_images):\n",
    "    WHITE = 250\n",
    "\n",
    "    images_white_board_counts = [0] * len(_images)\n",
    "    _immatrix = np.array([np.array(Image.open(im)) for im in _images], 'f')\n",
    "\n",
    "    for index, image in enumerate(_immatrix):\n",
    "        counter = 0\n",
    "        for y, _ in enumerate(image):\n",
    "            for x, _ in enumerate(image[y]):\n",
    "\n",
    "                pixel = image[y][x]\n",
    "                avg = sum(pixel) / len(pixel)\n",
    "\n",
    "                if avg >= WHITE:\n",
    "                    counter += 1\n",
    "\n",
    "                    queue = collections.deque([x, y])\n",
    "                    k = 0\n",
    "                    while queue: \n",
    "                        k += 1\n",
    "                        _x = queue.popleft()\n",
    "                        _y = queue.popleft()\n",
    "\n",
    "                        if (sum(image[_y][_x]) / len(image[_y][_x])) < WHITE:\n",
    "                            continue\n",
    "\n",
    "                        image[_y][_x] = [0, 0, 0, 0] # set as visited\n",
    "\n",
    "                        for move in [[-1, 0], [1, 0], [0, 1], [0, -1]]:\n",
    "                            next_x = _x + move[0]\n",
    "                            next_y = _y + move[1]\n",
    "\n",
    "                            if next_y >= 0 and next_x >= 0 and next_y < len(image) and next_x < len(image[_y]):\n",
    "                                color = (sum(image[next_y][next_x]) / len(image[next_y][next_x]))\n",
    "                                if color >= WHITE:\n",
    "                                    queue.append(next_x)\n",
    "                                    queue.append(next_y)\n",
    "\n",
    "        images_white_board_counts[index] = counter\n",
    "    return images_white_board_counts\n",
    "\n",
    "\n",
    "images_white_board_counts = get_images_white_board_counts(images)"
   ]
  },
  {
   "cell_type": "code",
   "execution_count": 23,
   "metadata": {},
   "outputs": [
    {
     "data": {
      "text/plain": [
       "[2,\n",
       " 2,\n",
       " 1,\n",
       " 2,\n",
       " 2,\n",
       " 1,\n",
       " 2,\n",
       " 1,\n",
       " 1,\n",
       " 1,\n",
       " 1,\n",
       " 1,\n",
       " 1,\n",
       " 1,\n",
       " 2,\n",
       " 2,\n",
       " 2,\n",
       " 1,\n",
       " 1,\n",
       " 1,\n",
       " 1,\n",
       " 1,\n",
       " 1,\n",
       " 1,\n",
       " 1,\n",
       " 1,\n",
       " 2,\n",
       " 2,\n",
       " 1,\n",
       " 2,\n",
       " 2,\n",
       " 1,\n",
       " 3,\n",
       " 1,\n",
       " 1,\n",
       " 1,\n",
       " 1,\n",
       " 1,\n",
       " 1,\n",
       " 1,\n",
       " 2,\n",
       " 2,\n",
       " 2,\n",
       " 1,\n",
       " 1,\n",
       " 1,\n",
       " 1,\n",
       " 1,\n",
       " 1,\n",
       " 1,\n",
       " 1,\n",
       " 1,\n",
       " 2,\n",
       " 2,\n",
       " 1,\n",
       " 2,\n",
       " 2,\n",
       " 1,\n",
       " 3,\n",
       " 1,\n",
       " 1,\n",
       " 1,\n",
       " 1,\n",
       " 1,\n",
       " 1,\n",
       " 1,\n",
       " 2,\n",
       " 2,\n",
       " 2,\n",
       " 1,\n",
       " 1,\n",
       " 1,\n",
       " 1,\n",
       " 1,\n",
       " 1,\n",
       " 1,\n",
       " 1,\n",
       " 1,\n",
       " 2,\n",
       " 2,\n",
       " 1,\n",
       " 2,\n",
       " 2,\n",
       " 1,\n",
       " 3,\n",
       " 1,\n",
       " 1,\n",
       " 1,\n",
       " 1,\n",
       " 1,\n",
       " 1,\n",
       " 1,\n",
       " 2,\n",
       " 2,\n",
       " 2,\n",
       " 1,\n",
       " 1,\n",
       " 1,\n",
       " 1,\n",
       " 1,\n",
       " 1,\n",
       " 1,\n",
       " 1,\n",
       " 1,\n",
       " 2,\n",
       " 2,\n",
       " 1,\n",
       " 2,\n",
       " 2,\n",
       " 1,\n",
       " 3,\n",
       " 1,\n",
       " 1,\n",
       " 1,\n",
       " 1,\n",
       " 1,\n",
       " 1,\n",
       " 1,\n",
       " 2,\n",
       " 2,\n",
       " 2,\n",
       " 1,\n",
       " 1,\n",
       " 1,\n",
       " 1,\n",
       " 1,\n",
       " 1,\n",
       " 1,\n",
       " 1,\n",
       " 1,\n",
       " 2,\n",
       " 2,\n",
       " 1,\n",
       " 2,\n",
       " 2,\n",
       " 1,\n",
       " 2,\n",
       " 1,\n",
       " 1,\n",
       " 1,\n",
       " 1,\n",
       " 1,\n",
       " 1,\n",
       " 1,\n",
       " 2,\n",
       " 2,\n",
       " 2,\n",
       " 1,\n",
       " 1,\n",
       " 1,\n",
       " 1,\n",
       " 1,\n",
       " 1,\n",
       " 1,\n",
       " 1,\n",
       " 1,\n",
       " 2,\n",
       " 2,\n",
       " 1,\n",
       " 2,\n",
       " 3,\n",
       " 1,\n",
       " 2,\n",
       " 1,\n",
       " 1,\n",
       " 1,\n",
       " 1,\n",
       " 1,\n",
       " 1,\n",
       " 1,\n",
       " 2,\n",
       " 2,\n",
       " 2,\n",
       " 1,\n",
       " 1,\n",
       " 1,\n",
       " 1,\n",
       " 1,\n",
       " 1,\n",
       " 1,\n",
       " 1,\n",
       " 1,\n",
       " 2,\n",
       " 2,\n",
       " 1,\n",
       " 2,\n",
       " 2,\n",
       " 1,\n",
       " 2,\n",
       " 1,\n",
       " 1,\n",
       " 1,\n",
       " 1,\n",
       " 1,\n",
       " 1,\n",
       " 1,\n",
       " 2,\n",
       " 2,\n",
       " 2,\n",
       " 1,\n",
       " 1,\n",
       " 1,\n",
       " 1,\n",
       " 1,\n",
       " 1,\n",
       " 1,\n",
       " 1,\n",
       " 1,\n",
       " 2,\n",
       " 2,\n",
       " 1,\n",
       " 2,\n",
       " 2,\n",
       " 1,\n",
       " 3,\n",
       " 1,\n",
       " 1,\n",
       " 1,\n",
       " 1,\n",
       " 1,\n",
       " 1,\n",
       " 1,\n",
       " 2,\n",
       " 2,\n",
       " 2,\n",
       " 1,\n",
       " 1,\n",
       " 1,\n",
       " 1,\n",
       " 1,\n",
       " 1,\n",
       " 1,\n",
       " 1,\n",
       " 1,\n",
       " 2,\n",
       " 2,\n",
       " 1,\n",
       " 2,\n",
       " 2,\n",
       " 1,\n",
       " 3,\n",
       " 1,\n",
       " 1,\n",
       " 1,\n",
       " 1,\n",
       " 1,\n",
       " 1,\n",
       " 1,\n",
       " 2,\n",
       " 2,\n",
       " 2,\n",
       " 1,\n",
       " 1,\n",
       " 1,\n",
       " 1,\n",
       " 1,\n",
       " 1,\n",
       " 1,\n",
       " 1,\n",
       " 1,\n",
       " 2,\n",
       " 2,\n",
       " 1,\n",
       " 2,\n",
       " 2,\n",
       " 1,\n",
       " 2,\n",
       " 1,\n",
       " 1,\n",
       " 1,\n",
       " 1,\n",
       " 1,\n",
       " 1,\n",
       " 1,\n",
       " 2,\n",
       " 2,\n",
       " 2,\n",
       " 1,\n",
       " 1,\n",
       " 1,\n",
       " 1,\n",
       " 1,\n",
       " 1,\n",
       " 1,\n",
       " 1,\n",
       " 1,\n",
       " 2,\n",
       " 2,\n",
       " 1,\n",
       " 2,\n",
       " 2,\n",
       " 1,\n",
       " 2,\n",
       " 1,\n",
       " 1,\n",
       " 1,\n",
       " 1,\n",
       " 1,\n",
       " 1,\n",
       " 1,\n",
       " 2,\n",
       " 2,\n",
       " 2,\n",
       " 1,\n",
       " 1,\n",
       " 1,\n",
       " 1,\n",
       " 1,\n",
       " 1,\n",
       " 1,\n",
       " 1,\n",
       " 1,\n",
       " 2,\n",
       " 2,\n",
       " 1,\n",
       " 2,\n",
       " 2,\n",
       " 1,\n",
       " 2,\n",
       " 1,\n",
       " 1,\n",
       " 1,\n",
       " 1,\n",
       " 1,\n",
       " 1,\n",
       " 1,\n",
       " 2,\n",
       " 2,\n",
       " 2,\n",
       " 1,\n",
       " 1,\n",
       " 1,\n",
       " 1,\n",
       " 1,\n",
       " 1,\n",
       " 1,\n",
       " 1,\n",
       " 1,\n",
       " 2,\n",
       " 2,\n",
       " 1,\n",
       " 2,\n",
       " 2,\n",
       " 1,\n",
       " 3,\n",
       " 1,\n",
       " 1,\n",
       " 1,\n",
       " 1,\n",
       " 1,\n",
       " 1,\n",
       " 1,\n",
       " 2,\n",
       " 2,\n",
       " 2,\n",
       " 1,\n",
       " 1,\n",
       " 1,\n",
       " 1,\n",
       " 1,\n",
       " 1,\n",
       " 1,\n",
       " 1,\n",
       " 1,\n",
       " 2,\n",
       " 2,\n",
       " 1,\n",
       " 2,\n",
       " 2,\n",
       " 1,\n",
       " 2,\n",
       " 1,\n",
       " 1,\n",
       " 1,\n",
       " 1,\n",
       " 1,\n",
       " 1,\n",
       " 1,\n",
       " 2,\n",
       " 2,\n",
       " 2,\n",
       " 1,\n",
       " 1,\n",
       " 1,\n",
       " 1,\n",
       " 1,\n",
       " 1,\n",
       " 1,\n",
       " 1,\n",
       " 1,\n",
       " 2,\n",
       " 2,\n",
       " 1,\n",
       " 2,\n",
       " 2,\n",
       " 1,\n",
       " 3,\n",
       " 1,\n",
       " 1,\n",
       " 1,\n",
       " 1,\n",
       " 1,\n",
       " 1,\n",
       " 1,\n",
       " 2,\n",
       " 2,\n",
       " 2,\n",
       " 1,\n",
       " 1,\n",
       " 1,\n",
       " 1,\n",
       " 1,\n",
       " 1,\n",
       " 1,\n",
       " 1,\n",
       " 1]"
      ]
     },
     "execution_count": 23,
     "metadata": {},
     "output_type": "execute_result"
    }
   ],
   "source": [
    "# images_white_board_counts"
   ]
  },
  {
   "cell_type": "code",
   "execution_count": 24,
   "metadata": {},
   "outputs": [],
   "source": [
    "def add_white_board_counts_fn(a):\n",
    "    index, img = a\n",
    "    img = np.append(img, [images_white_board_counts[index]])\n",
    "    return img"
   ]
  },
  {
   "cell_type": "code",
   "execution_count": 25,
   "metadata": {},
   "outputs": [],
   "source": [
    "def add_white_board_counts(immatrix):\n",
    "    return list(map(add_white_board_counts_fn, enumerate(immatrix)))"
   ]
  },
  {
   "cell_type": "markdown",
   "metadata": {},
   "source": [
    "Pridam informaciu o pocte bielych ploch k datam ktore budem vyhodnocovat."
   ]
  },
  {
   "cell_type": "code",
   "execution_count": 26,
   "metadata": {},
   "outputs": [],
   "source": [
    "immatrix = add_white_board_counts(immatrix)"
   ]
  },
  {
   "cell_type": "markdown",
   "metadata": {},
   "source": [
    "Znovu polozim KMeans."
   ]
  },
  {
   "cell_type": "code",
   "execution_count": 27,
   "metadata": {},
   "outputs": [
    {
     "name": "stdout",
     "output_type": "stream",
     "text": [
      "homogeneity_score: 0.4886783147398281\n",
      "completeness_score: 0.5173490487166529\n"
     ]
    }
   ],
   "source": [
    "cls = KMeans(n_clusters=26, random_state=420)\n",
    "kmeans = cls.fit(immatrix)\n",
    "clusters = kmeans.labels_\n",
    "\n",
    "score(y_test, clusters)"
   ]
  },
  {
   "cell_type": "markdown",
   "metadata": {},
   "source": [
    "Trosku som si vylepsil score."
   ]
  },
  {
   "cell_type": "code",
   "execution_count": 28,
   "metadata": {},
   "outputs": [],
   "source": [
    "df = get_cluster_sizes(clusters)"
   ]
  },
  {
   "cell_type": "code",
   "execution_count": 29,
   "metadata": {},
   "outputs": [
    {
     "data": {
      "image/png": "[encoded data removed]",
      "text/plain": [
       "<Figure size 432x288 with 1 Axes>"
      ]
     },
     "metadata": {
      "needs_background": "light"
     },
     "output_type": "display_data"
    }
   ],
   "source": [
    "visualise_cluster_sizes_2(df)"
   ]
  },
  {
   "cell_type": "markdown",
   "metadata": {},
   "source": [
    "Skusim zredukovat dimenzionalitu pre kazdy obrazok, mame tam momentalne strasne vela features.\n",
    "To je image_size_x * image_size_y * rgba.\n",
    "Co je 64 * 64 * 4. (Vsetky obrazky mame rovnake)\n",
    "\n",
    "Urobim priemernu farbu pre kazde 2 pixely. Yolo."
   ]
  },
  {
   "cell_type": "code",
   "execution_count": 30,
   "metadata": {},
   "outputs": [],
   "source": [
    "def reduce_dim(img, mul = 2):\n",
    "    step = 4 * mul\n",
    "    \n",
    "    result_img = []\n",
    "    \n",
    "    for x in range(0, len(img), step): # RGBA * n of pixels\n",
    "        pixel = 0\n",
    "        \n",
    "        for y in range(x, x + step):\n",
    "            pixel += img[y]\n",
    "        \n",
    "        result_img.append(int(pixel / step))\n",
    "        \n",
    "    return result_img\n",
    "\n",
    "immatrix = np.array([reduce_dim(np.array(Image.open(im)).flatten()) for im in images], 'f')"
   ]
  },
  {
   "cell_type": "markdown",
   "metadata": {},
   "source": [
    "Pre kazdy obrazok pridam aj informaciu o pocte bielych ploch."
   ]
  },
  {
   "cell_type": "code",
   "execution_count": 31,
   "metadata": {},
   "outputs": [],
   "source": [
    "immatrix = add_white_board_counts(immatrix)"
   ]
  },
  {
   "cell_type": "code",
   "execution_count": 32,
   "metadata": {},
   "outputs": [
    {
     "name": "stdout",
     "output_type": "stream",
     "text": [
      "homogeneity_score: 0.49411559955810497\n",
      "completeness_score: 0.538347285488584\n"
     ]
    }
   ],
   "source": [
    "cls = KMeans(n_clusters=26, random_state=420)\n",
    "kmeans = cls.fit(immatrix)\n",
    "clusters = kmeans.labels_\n",
    "\n",
    "score(y_test, clusters)"
   ]
  },
  {
   "cell_type": "markdown",
   "metadata": {},
   "source": [
    "Zlepsil som aj homogeneity_score a aj completeness_score."
   ]
  },
  {
   "cell_type": "code",
   "execution_count": 33,
   "metadata": {},
   "outputs": [
    {
     "data": {
      "image/png": "[encoded data removed]",
      "text/plain": [
       "<Figure size 1440x720 with 33 Axes>"
      ]
     },
     "metadata": {
      "needs_background": "light"
     },
     "output_type": "display_data"
    }
   ],
   "source": [
    "print_cluster(1)"
   ]
  },
  {
   "cell_type": "code",
   "execution_count": 34,
   "metadata": {},
   "outputs": [
    {
     "data": {
      "image/png": "[encoded data removed]",
      "text/plain": [
       "<Figure size 1440x720 with 1 Axes>"
      ]
     },
     "metadata": {
      "needs_background": "light"
     },
     "output_type": "display_data"
    }
   ],
   "source": [
    "print_cluster(2)"
   ]
  },
  {
   "cell_type": "markdown",
   "metadata": {},
   "source": [
    "LOL, tuto su spolu v clustri dokonca znaky s roznym poctom bielych miest."
   ]
  },
  {
   "cell_type": "code",
   "execution_count": 35,
   "metadata": {},
   "outputs": [
    {
     "data": {
      "image/png": "[encoded data removed]",
      "text/plain": [
       "<Figure size 432x288 with 1 Axes>"
      ]
     },
     "metadata": {
      "needs_background": "light"
     },
     "output_type": "display_data"
    }
   ],
   "source": [
    "df = get_cluster_sizes(clusters)\n",
    "visualise_cluster_sizes_2(df)"
   ]
  },
  {
   "cell_type": "markdown",
   "metadata": {},
   "source": [
    "Stale su tie pocty v clustroch velmi variabilne."
   ]
  },
  {
   "cell_type": "markdown",
   "metadata": {},
   "source": [
    "Skusim este ine sposoby clustrovania."
   ]
  },
  {
   "cell_type": "code",
   "execution_count": 36,
   "metadata": {},
   "outputs": [
    {
     "name": "stdout",
     "output_type": "stream",
     "text": [
      "homogeneity_score: 0.16750140660493765\n",
      "completeness_score: 0.5484062777993638\n"
     ]
    }
   ],
   "source": [
    "from sklearn.cluster import DBSCAN\n",
    "\n",
    "immatrix = np.array([np.array(Image.open(im)).flatten() for im in images], 'f')\n",
    "immatrix = add_white_board_counts(immatrix)\n",
    "\n",
    "clustering = DBSCAN(eps=0.25, min_samples=2).fit(immatrix)\n",
    "clusters = clustering.labels_\n",
    "\n",
    "score(y_test, clusters)"
   ]
  },
  {
   "cell_type": "code",
   "execution_count": 37,
   "metadata": {},
   "outputs": [
    {
     "data": {
      "image/png": "[encoded data removed]",
      "text/plain": [
       "<Figure size 1440x720 with 4 Axes>"
      ]
     },
     "metadata": {
      "needs_background": "light"
     },
     "output_type": "display_data"
    }
   ],
   "source": [
    "print_cluster(1)"
   ]
  },
  {
   "cell_type": "code",
   "execution_count": 38,
   "metadata": {
    "scrolled": true
   },
   "outputs": [
    {
     "data": {
      "image/png": "[encoded data removed]",
      "text/plain": [
       "<Figure size 1440x720 with 2 Axes>"
      ]
     },
     "metadata": {
      "needs_background": "light"
     },
     "output_type": "display_data"
    }
   ],
   "source": [
    "print_cluster(2)"
   ]
  },
  {
   "cell_type": "code",
   "execution_count": 39,
   "metadata": {},
   "outputs": [
    {
     "data": {
      "image/png": "[encoded data removed]",
      "text/plain": [
       "<Figure size 432x288 with 1 Axes>"
      ]
     },
     "metadata": {
      "needs_background": "light"
     },
     "output_type": "display_data"
    }
   ],
   "source": [
    "df = get_cluster_sizes(clusters)\n",
    "\n",
    "visualise_cluster_sizes_1(df)"
   ]
  },
  {
   "cell_type": "markdown",
   "metadata": {},
   "source": [
    "LOL 350 outlayerov."
   ]
  },
  {
   "cell_type": "markdown",
   "metadata": {},
   "source": [
    "Vyzera to tak ze to clastruje precizne, az prilis. Redukcia dimenzionality mozno pomoze. Rovno znormalizujem vsetky farby."
   ]
  },
  {
   "cell_type": "code",
   "execution_count": 40,
   "metadata": {},
   "outputs": [],
   "source": [
    "def normalize_colors_in_image(immatrix):\n",
    "    return list(map(lambda x: 1 if x <= 128 else 0, immatrix))"
   ]
  },
  {
   "cell_type": "code",
   "execution_count": 41,
   "metadata": {},
   "outputs": [],
   "source": [
    "immatrix = np.array([normalize_colors_in_image(reduce_dim(np.array(Image.open(im)).flatten(), 4)) for im in images], 'f')\n",
    "immatrix = add_white_board_counts(immatrix)"
   ]
  },
  {
   "cell_type": "code",
   "execution_count": 42,
   "metadata": {},
   "outputs": [
    {
     "name": "stdout",
     "output_type": "stream",
     "text": [
      "homogeneity_score: 0.24379434785883272\n",
      "completeness_score: 0.5436461737875931\n"
     ]
    }
   ],
   "source": [
    "clustering = DBSCAN(eps=.58, min_samples=2).fit(immatrix)\n",
    "clusters = clustering.labels_\n",
    "\n",
    "score(y_test, clusters)"
   ]
  },
  {
   "cell_type": "markdown",
   "metadata": {},
   "source": [
    "Trochu som sa pohral s parametrami. Maximum som dosiahol 0.37 homogenity score, avsak! mal som velmi vela clustrov."
   ]
  },
  {
   "cell_type": "code",
   "execution_count": 43,
   "metadata": {},
   "outputs": [
    {
     "data": {
      "image/png": "[encoded data removed]",
      "text/plain": [
       "<Figure size 1440x720 with 23 Axes>"
      ]
     },
     "metadata": {
      "needs_background": "light"
     },
     "output_type": "display_data"
    }
   ],
   "source": [
    "print_cluster(0)"
   ]
  },
  {
   "cell_type": "code",
   "execution_count": 44,
   "metadata": {},
   "outputs": [
    {
     "data": {
      "image/png": "[encoded data removed]",
      "text/plain": [
       "<Figure size 1440x720 with 2 Axes>"
      ]
     },
     "metadata": {
      "needs_background": "light"
     },
     "output_type": "display_data"
    }
   ],
   "source": [
    "print_cluster(1)"
   ]
  },
  {
   "cell_type": "code",
   "execution_count": 45,
   "metadata": {},
   "outputs": [
    {
     "data": {
      "image/png": "[encoded data removed]",
      "text/plain": [
       "<Figure size 1440x720 with 2 Axes>"
      ]
     },
     "metadata": {
      "needs_background": "light"
     },
     "output_type": "display_data"
    }
   ],
   "source": [
    "print_cluster(2)"
   ]
  },
  {
   "cell_type": "code",
   "execution_count": 46,
   "metadata": {},
   "outputs": [
    {
     "data": {
      "image/png": "[encoded data removed]",
      "text/plain": [
       "<Figure size 1440x720 with 4 Axes>"
      ]
     },
     "metadata": {
      "needs_background": "light"
     },
     "output_type": "display_data"
    }
   ],
   "source": [
    "print_cluster(5)"
   ]
  },
  {
   "cell_type": "markdown",
   "metadata": {},
   "source": [
    "Celkom ok."
   ]
  },
  {
   "cell_type": "code",
   "execution_count": 47,
   "metadata": {},
   "outputs": [
    {
     "data": {
      "image/png": "[encoded data removed]",
      "text/plain": [
       "<Figure size 432x288 with 1 Axes>"
      ]
     },
     "metadata": {
      "needs_background": "light"
     },
     "output_type": "display_data"
    }
   ],
   "source": [
    "df = get_cluster_sizes(clusters)\n",
    "\n",
    "visualise_cluster_sizes_1(df)"
   ]
  },
  {
   "cell_type": "markdown",
   "metadata": {},
   "source": [
    "Skusim este meanshift."
   ]
  },
  {
   "cell_type": "code",
   "execution_count": 48,
   "metadata": {},
   "outputs": [],
   "source": [
    "immatrix = np.array([normalize_colors_in_image(reduce_dim(np.array(Image.open(im)).flatten(), 4)) for im in images], 'f')\n",
    "immatrix = add_white_board_counts(immatrix)"
   ]
  },
  {
   "cell_type": "code",
   "execution_count": 49,
   "metadata": {},
   "outputs": [
    {
     "name": "stdout",
     "output_type": "stream",
     "text": [
      "homogeneity_score: 0.917708836455697\n",
      "completeness_score: 0.5581795604634678\n"
     ]
    }
   ],
   "source": [
    "from sklearn.cluster import MeanShift\n",
    "\n",
    "clustering = MeanShift(bandwidth=2).fit(immatrix)\n",
    "clusters = clustering.labels_\n",
    "\n",
    "score(y_test, clusters)"
   ]
  },
  {
   "cell_type": "markdown",
   "metadata": {},
   "source": [
    "WHAAAAAAAT, YOLOOOO, Dufam ze tam nebude privela clustrov :)"
   ]
  },
  {
   "cell_type": "code",
   "execution_count": 50,
   "metadata": {},
   "outputs": [
    {
     "name": "stdout",
     "output_type": "stream",
     "text": [
      "<class 'pandas.core.frame.DataFrame'>\n",
      "Int64Index: 303 entries, 0 to 302\n",
      "Data columns (total 1 columns):\n",
      "number of items    303 non-null int64\n",
      "dtypes: int64(1)\n",
      "memory usage: 4.7 KB\n"
     ]
    }
   ],
   "source": [
    "df = get_cluster_sizes(clusters)\n",
    "df.info()"
   ]
  },
  {
   "cell_type": "code",
   "execution_count": 51,
   "metadata": {},
   "outputs": [
    {
     "data": {
      "text/html": [
       "<div>\n",
       "<style scoped>\n",
       "    .dataframe tbody tr th:only-of-type {\n",
       "        vertical-align: middle;\n",
       "    }\n",
       "\n",
       "    .dataframe tbody tr th {\n",
       "        vertical-align: top;\n",
       "    }\n",
       "\n",
       "    .dataframe thead th {\n",
       "        text-align: right;\n",
       "    }\n",
       "</style>\n",
       "<table border=\"1\" class=\"dataframe\">\n",
       "  <thead>\n",
       "    <tr style=\"text-align: right;\">\n",
       "      <th></th>\n",
       "      <th>number of items</th>\n",
       "    </tr>\n",
       "    <tr>\n",
       "      <th>cluster number</th>\n",
       "      <th></th>\n",
       "    </tr>\n",
       "  </thead>\n",
       "  <tbody>\n",
       "    <tr>\n",
       "      <th>0</th>\n",
       "      <td>45</td>\n",
       "    </tr>\n",
       "    <tr>\n",
       "      <th>1</th>\n",
       "      <td>5</td>\n",
       "    </tr>\n",
       "    <tr>\n",
       "      <th>2</th>\n",
       "      <td>6</td>\n",
       "    </tr>\n",
       "    <tr>\n",
       "      <th>3</th>\n",
       "      <td>4</td>\n",
       "    </tr>\n",
       "    <tr>\n",
       "      <th>4</th>\n",
       "      <td>4</td>\n",
       "    </tr>\n",
       "  </tbody>\n",
       "</table>\n",
       "</div>"
      ],
      "text/plain": [
       "                number of items\n",
       "cluster number                 \n",
       "0                            45\n",
       "1                             5\n",
       "2                             6\n",
       "3                             4\n",
       "4                             4"
      ]
     },
     "execution_count": 51,
     "metadata": {},
     "output_type": "execute_result"
    }
   ],
   "source": [
    "df.head()"
   ]
  },
  {
   "cell_type": "markdown",
   "metadata": {},
   "source": [
    "No je ich celkom vela, 300 :("
   ]
  },
  {
   "cell_type": "markdown",
   "metadata": {},
   "source": [
    "Pohram sa s atributmi..."
   ]
  },
  {
   "cell_type": "code",
   "execution_count": 52,
   "metadata": {},
   "outputs": [],
   "source": [
    "immatrix = np.array([normalize_colors_in_image(reduce_dim(np.array(Image.open(im)).flatten(), 4)) for im in images], 'f')\n",
    "immatrix = add_white_board_counts(immatrix)"
   ]
  },
  {
   "cell_type": "code",
   "execution_count": 53,
   "metadata": {},
   "outputs": [
    {
     "name": "stdout",
     "output_type": "stream",
     "text": [
      "homogeneity_score: 0.10609232596483929\n",
      "completeness_score: 0.4657422942318254\n"
     ]
    }
   ],
   "source": [
    "from sklearn.cluster import MeanShift\n",
    "\n",
    "clustering = MeanShift(bandwidth=5.0).fit(immatrix)\n",
    "clusters = clustering.labels_\n",
    "\n",
    "score(y_test, clusters)"
   ]
  },
  {
   "cell_type": "code",
   "execution_count": 54,
   "metadata": {},
   "outputs": [
    {
     "data": {
      "image/png": "[encoded data removed]",
      "text/plain": [
       "<Figure size 432x288 with 1 Axes>"
      ]
     },
     "metadata": {
      "needs_background": "light"
     },
     "output_type": "display_data"
    }
   ],
   "source": [
    "df = get_cluster_sizes(clusters)\n",
    "\n",
    "visualise_cluster_sizes_1(df)"
   ]
  },
  {
   "cell_type": "markdown",
   "metadata": {},
   "source": [
    "Neuspesne, iba som to pokazil."
   ]
  },
  {
   "cell_type": "markdown",
   "metadata": {},
   "source": [
    "To je asi zatial vsetko."
   ]
  },
  {
   "cell_type": "markdown",
   "metadata": {},
   "source": [
    "TODO: Skusit pocet ciernych ploch. Skusit detekciu poctu hran, poctu rohov, poctu oblukov? (scikit-image) Fix, redukcia dimenzionality! Skusit inu metriku v clusteringu."
   ]
  },
  {
   "cell_type": "markdown",
   "metadata": {},
   "source": [
    "# 5. Odovzanie"
   ]
  },
  {
   "cell_type": "markdown",
   "metadata": {},
   "source": [
    "#### Co sa stalo naposledy?\n",
    "\n",
    "#### \"Podarilo\", skor nepodarilo sa mi rozclustrovat pismena podla fontu do, ktoreho patria.\n",
    "\n",
    "#### Urobil som chybu s resizovanim obrazku, resizoval som iba os x, to skusim napravit.\n",
    "\n",
    "#### Nepridal som vacsiu dolezitost poctu bielych ploch obrazka pri clustrovani to tiez opravim."
   ]
  },
  {
   "cell_type": "markdown",
   "metadata": {},
   "source": [
    "### Urobim si pomocne funkcie z kodov uvedenych vyssie a pridan aj detekciu poctu ciernych ploch - pomoze mi odlisit i a j"
   ]
  },
  {
   "cell_type": "code",
   "execution_count": 55,
   "metadata": {},
   "outputs": [],
   "source": [
    "import collections\n",
    "\n",
    "def get_black_board_counts(_images):\n",
    "    BLACK = 15\n",
    "\n",
    "    images_black_board_counts = [0] * len(_images)\n",
    "    _immatrix = np.array([np.array(Image.open(im)) for im in _images], 'f')\n",
    "\n",
    "    for index, image in enumerate(_immatrix):\n",
    "        counter = 0\n",
    "        for y, _ in enumerate(image):\n",
    "            for x, _ in enumerate(image[y]):\n",
    "\n",
    "                pixel = image[y][x]\n",
    "                avg = sum(pixel) / len(pixel)\n",
    "\n",
    "                if avg <= BLACK:\n",
    "                    counter += 1\n",
    "\n",
    "                    queue = collections.deque([x, y])\n",
    "                    k = 0\n",
    "                    while queue: \n",
    "                        k += 1\n",
    "                        _x = queue.popleft()\n",
    "                        _y = queue.popleft()\n",
    "\n",
    "                        if (sum(image[_y][_x]) / len(image[_y][_x])) > BLACK:\n",
    "                            continue\n",
    "\n",
    "                        image[_y][_x] = [255, 255, 255, 255] # set as visited\n",
    "\n",
    "                        for move in [[-1, 0], [1, 0], [0, 1], [0, -1]]:\n",
    "                            next_x = _x + move[0]\n",
    "                            next_y = _y + move[1]\n",
    "\n",
    "                            if next_y >= 0 and next_x >= 0 and next_y < len(image) and next_x < len(image[_y]):\n",
    "                                color = (sum(image[next_y][next_x]) / len(image[next_y][next_x]))\n",
    "                                if color <= BLACK:\n",
    "                                    queue.append(next_x)\n",
    "                                    queue.append(next_y)\n",
    "\n",
    "        images_black_board_counts[index] = counter\n",
    "    return images_black_board_counts\n",
    "\n",
    "\n",
    "images_black_board_counts = get_black_board_counts(images)"
   ]
  },
  {
   "cell_type": "markdown",
   "metadata": {},
   "source": [
    "Pocet ciernych ploch dam * 1000000, pocet bielych dam * 1000."
   ]
  },
  {
   "cell_type": "code",
   "execution_count": 56,
   "metadata": {},
   "outputs": [],
   "source": [
    "def add_board_counts_fn(a):\n",
    "    index, img = a\n",
    "    img = np.append(img, [images_white_board_counts[index] * 1000])\n",
    "    img = np.append(img, [images_black_board_counts[index] * 1000000])\n",
    "    return img"
   ]
  },
  {
   "cell_type": "code",
   "execution_count": 57,
   "metadata": {},
   "outputs": [],
   "source": [
    "def rgba_to_int(img):\n",
    "    result_img = np.empty((len(img), len(img[0])))\n",
    "    \n",
    "    def to_int(rgb):\n",
    "        red = rgb[0]\n",
    "        green = rgb[1]\n",
    "        blue = rgb[2]\n",
    "        RGBint = (red << 16) + (green << 8) + blue\n",
    "        return RGBint\n",
    "    \n",
    "    for y in range(0, len(img)):\n",
    "        for x in range(0, len(img[y])):\n",
    "            rgba = img[y][x]\n",
    "            result_img[y][x] = to_int(rgba)\n",
    "        \n",
    "    return result_img"
   ]
  },
  {
   "cell_type": "code",
   "execution_count": 58,
   "metadata": {},
   "outputs": [],
   "source": [
    "def normalize_colors_in_image(immatrix):\n",
    "    return list(map(lambda x: 1 if x <= 8388607 else 0, immatrix))"
   ]
  },
  {
   "cell_type": "code",
   "execution_count": 59,
   "metadata": {},
   "outputs": [],
   "source": [
    "def add_board_counts(immatrix):\n",
    "    return list(map(add_board_counts_fn, enumerate(immatrix)))"
   ]
  },
  {
   "cell_type": "code",
   "execution_count": 60,
   "metadata": {},
   "outputs": [],
   "source": [
    "def _visualise_cluster_sizes_1(clusters):\n",
    "    df = get_cluster_sizes(clusters)\n",
    "\n",
    "    visualise_cluster_sizes_1(df)"
   ]
  },
  {
   "cell_type": "code",
   "execution_count": 103,
   "metadata": {},
   "outputs": [],
   "source": [
    "from skimage import data, color\n",
    "from skimage.transform import rescale, resize, downscale_local_mean\n",
    "\n",
    "def resize_image(image, div = 2):\n",
    "    return resize(image, (round(image.shape[0] / div), round(image.shape[1] / div)), anti_aliasing = True, mode='constant')"
   ]
  },
  {
   "cell_type": "code",
   "execution_count": 122,
   "metadata": {},
   "outputs": [],
   "source": [
    "def show_image(image):\n",
    "    fig, ax = plt.subplots()\n",
    "    \n",
    "    ax.imshow(image, interpolation='nearest', cmap=plt.cm.gray)\n",
    "    ax.axis((0, len(image), len(image[0]), 0))"
   ]
  },
  {
   "cell_type": "markdown",
   "metadata": {},
   "source": [
    "### Skusim zmovu KMeans."
   ]
  },
  {
   "cell_type": "code",
   "execution_count": 62,
   "metadata": {},
   "outputs": [
    {
     "name": "stdout",
     "output_type": "stream",
     "text": [
      "homogeneity_score: 0.556813928824347\n",
      "completeness_score: 0.5808456687316006\n"
     ]
    }
   ],
   "source": [
    "immatrix = np.array([normalize_colors_in_image(np.array(rgba_to_int(np.array(Image.open(im)))).flatten()) for im in images], 'f')\n",
    "immatrix = add_board_counts(immatrix)\n",
    "\n",
    "cls = KMeans(n_clusters=26, random_state=420)\n",
    "kmeans = cls.fit(immatrix)\n",
    "clusters = kmeans.labels_\n",
    "\n",
    "score(y_test, clusters)"
   ]
  },
  {
   "cell_type": "markdown",
   "metadata": {},
   "source": [
    "### Mam lepsiu homogenity_score aj completness_score.\n",
    "\n",
    "### Predtym som mal s KMEANS.\n",
    "__homogeneity_score: 0.49411559955810497__\n",
    "\n",
    "__completeness_score: 0.538347285488584__"
   ]
  },
  {
   "cell_type": "markdown",
   "metadata": {},
   "source": [
    "#### Skusal som rozne dostupne algoritmy, ktore scikit poskytuje.\n",
    "#### Poskytuje “auto”, “full” a “elkan”.\n",
    "#### ”auto” (default value) performuje najlepsie. "
   ]
  },
  {
   "cell_type": "code",
   "execution_count": 63,
   "metadata": {},
   "outputs": [
    {
     "data": {
      "image/png": "[encoded data removed]",
      "text/plain": [
       "<Figure size 432x288 with 1 Axes>"
      ]
     },
     "metadata": {
      "needs_background": "light"
     },
     "output_type": "display_data"
    }
   ],
   "source": [
    "_visualise_cluster_sizes_1(clusters)"
   ]
  },
  {
   "cell_type": "code",
   "execution_count": 64,
   "metadata": {},
   "outputs": [
    {
     "data": {
      "image/png": "[encoded data removed]",
      "text/plain": [
       "<Figure size 1440x720 with 23 Axes>"
      ]
     },
     "metadata": {
      "needs_background": "light"
     },
     "output_type": "display_data"
    }
   ],
   "source": [
    "print_cluster(4)"
   ]
  },
  {
   "cell_type": "markdown",
   "metadata": {},
   "source": [
    "Skusim zmensit image 2x."
   ]
  },
  {
   "cell_type": "code",
   "execution_count": 120,
   "metadata": {},
   "outputs": [
    {
     "name": "stdout",
     "output_type": "stream",
     "text": [
      "homogeneity_score: 0.5217618015315242\n",
      "completeness_score: 0.554778344492402\n"
     ]
    }
   ],
   "source": [
    "immatrix = np.array([normalize_colors_in_image(np.array(resize_image(rgba_to_int(np.array(Image.open(im))), 2)).flatten()) for im in images], 'f')\n",
    "immatrix = add_board_counts(immatrix)\n",
    "\n",
    "cls = KMeans(n_clusters=26, random_state=420)\n",
    "kmeans = cls.fit(immatrix)\n",
    "clusters = kmeans.labels_\n",
    "\n",
    "score(y_test, clusters)"
   ]
  },
  {
   "cell_type": "markdown",
   "metadata": {},
   "source": [
    "Trochu mam horsie vysledky."
   ]
  },
  {
   "cell_type": "markdown",
   "metadata": {},
   "source": [
    "Skusim zmensit image 4x."
   ]
  },
  {
   "cell_type": "code",
   "execution_count": 107,
   "metadata": {},
   "outputs": [
    {
     "name": "stdout",
     "output_type": "stream",
     "text": [
      "homogeneity_score: 0.4714181826299592\n",
      "completeness_score: 0.540255182073868\n"
     ]
    }
   ],
   "source": [
    "immatrix = np.array([normalize_colors_in_image(np.array(resize_image(rgba_to_int(np.array(Image.open(im))), 4)).flatten()) for im in images], 'f')\n",
    "immatrix = add_board_counts(immatrix)\n",
    "\n",
    "cls = KMeans(n_clusters=26, random_state=420, algorithm='elkan')\n",
    "kmeans = cls.fit(immatrix)\n",
    "clusters = kmeans.labels_\n",
    "\n",
    "score(y_test, clusters)"
   ]
  },
  {
   "cell_type": "markdown",
   "metadata": {},
   "source": [
    "Skusim zmensit image 6x."
   ]
  },
  {
   "cell_type": "code",
   "execution_count": 121,
   "metadata": {},
   "outputs": [
    {
     "name": "stdout",
     "output_type": "stream",
     "text": [
      "homogeneity_score: 0.3722086347810647\n",
      "completeness_score: 0.5521695180794786\n"
     ]
    }
   ],
   "source": [
    "immatrix = np.array([normalize_colors_in_image(np.array(resize_image(rgba_to_int(np.array(Image.open(im))), 6)).flatten()) for im in images], 'f')\n",
    "immatrix = add_board_counts(immatrix)\n",
    "\n",
    "cls = KMeans(n_clusters=26, random_state=420, algorithm='elkan')\n",
    "kmeans = cls.fit(immatrix)\n",
    "clusters = kmeans.labels_\n",
    "\n",
    "score(y_test, clusters)"
   ]
  },
  {
   "cell_type": "markdown",
   "metadata": {},
   "source": [
    "Zmensovanim obrazkov dostavam horsie vysledky."
   ]
  },
  {
   "cell_type": "markdown",
   "metadata": {},
   "source": [
    "### Skusim Mean Shift."
   ]
  },
  {
   "cell_type": "code",
   "execution_count": 123,
   "metadata": {},
   "outputs": [
    {
     "name": "stdout",
     "output_type": "stream",
     "text": [
      "homogeneity_score: 0.9999999999999994\n",
      "completeness_score: 0.5537159139983053\n"
     ]
    }
   ],
   "source": [
    "immatrix = np.array([normalize_colors_in_image(np.array(rgba_to_int(np.array(Image.open(im)))).flatten()) for im in images], 'f')\n",
    "immatrix = add_board_counts(immatrix)\n",
    "\n",
    "clustering = MeanShift(bandwidth=2.0).fit(immatrix)\n",
    "clusters = clustering.labels_\n",
    "\n",
    "score(y_test, clusters)"
   ]
  },
  {
   "cell_type": "markdown",
   "metadata": {},
   "source": [
    "Vidim ze mam velku homogenitu co znamena ze budem mat pri nizsej completeness velmi vela clustrov..."
   ]
  },
  {
   "cell_type": "code",
   "execution_count": 124,
   "metadata": {},
   "outputs": [
    {
     "data": {
      "text/plain": [
       "376"
      ]
     },
     "execution_count": 124,
     "metadata": {},
     "output_type": "execute_result"
    }
   ],
   "source": [
    "len(get_cluster_sizes(clusters))"
   ]
  },
  {
   "cell_type": "markdown",
   "metadata": {},
   "source": [
    "### Skusim dalej ziskat informaciu o pocte rohov, alebo ich poziciach."
   ]
  },
  {
   "cell_type": "code",
   "execution_count": 70,
   "metadata": {},
   "outputs": [
    {
     "data": {
      "image/png": "[encoded data removed]",
      "text/plain": [
       "<Figure size 432x288 with 1 Axes>"
      ]
     },
     "metadata": {
      "needs_background": "light"
     },
     "output_type": "display_data"
    },
    {
     "data": {
      "image/png": "[encoded data removed]",
      "text/plain": [
       "<Figure size 432x288 with 1 Axes>"
      ]
     },
     "metadata": {
      "needs_background": "light"
     },
     "output_type": "display_data"
    },
    {
     "data": {
      "image/png": "[encoded data removed]",
      "text/plain": [
       "<Figure size 432x288 with 1 Axes>"
      ]
     },
     "metadata": {
      "needs_background": "light"
     },
     "output_type": "display_data"
    },
    {
     "data": {
      "image/png": "[encoded data removed]",
      "text/plain": [
       "<Figure size 432x288 with 1 Axes>"
      ]
     },
     "metadata": {
      "needs_background": "light"
     },
     "output_type": "display_data"
    }
   ],
   "source": [
    "from skimage.feature import corner_harris, corner_subpix, corner_peaks, corner_shi_tomasi\n",
    "\n",
    "immatrix = np.array([rgba_to_int(np.array(Image.open(im))) for im in images], 'f')\n",
    "\n",
    "for x in range(4):\n",
    "    image = immatrix[x]\n",
    "    \n",
    "    coords = corner_peaks(corner_harris(image, k = 0.0001), num_peaks=5, exclude_border=False)\n",
    "\n",
    "    coords_subpix = corner_subpix(image, coords, window_size=13)\n",
    "\n",
    "    fig, ax = plt.subplots()\n",
    "    ax.imshow(image, interpolation='nearest', cmap=plt.cm.gray)\n",
    "    ax.plot(coords[:, 1], coords[:, 0], '.r', markersize=8)\n",
    "    ax.plot(coords_subpix[:, 1], coords_subpix[:, 0], '+y', markersize=15)\n",
    "    ax.axis((0, len(image), len(image[0]), 0))"
   ]
  },
  {
   "cell_type": "markdown",
   "metadata": {},
   "source": [
    "### Podla obrazkov vidime ze nam detegovalo aj rohy samotneho obrazka, toho sa skusim zbavit inverznutim farieb."
   ]
  },
  {
   "cell_type": "code",
   "execution_count": 71,
   "metadata": {},
   "outputs": [],
   "source": [
    "def img_inverse_colors(img):\n",
    "    result_img = np.empty((len(img), len(img[0])))\n",
    "    \n",
    "    for y in range(0, len(img)):\n",
    "        for x in range(0, len(img[y])):\n",
    "            result_img[y][x] = 16581375 - img[y][x]\n",
    "        \n",
    "    return result_img"
   ]
  },
  {
   "cell_type": "code",
   "execution_count": 72,
   "metadata": {},
   "outputs": [
    {
     "data": {
      "image/png": "[encoded data removed]",
      "text/plain": [
       "<Figure size 432x288 with 1 Axes>"
      ]
     },
     "metadata": {
      "needs_background": "light"
     },
     "output_type": "display_data"
    },
    {
     "data": {
      "image/png": "[encoded data removed]",
      "text/plain": [
       "<Figure size 432x288 with 1 Axes>"
      ]
     },
     "metadata": {
      "needs_background": "light"
     },
     "output_type": "display_data"
    },
    {
     "data": {
      "image/png": "[encoded data removed]",
      "text/plain": [
       "<Figure size 432x288 with 1 Axes>"
      ]
     },
     "metadata": {
      "needs_background": "light"
     },
     "output_type": "display_data"
    },
    {
     "data": {
      "image/png": "[encoded data removed]",
      "text/plain": [
       "<Figure size 432x288 with 1 Axes>"
      ]
     },
     "metadata": {
      "needs_background": "light"
     },
     "output_type": "display_data"
    }
   ],
   "source": [
    "from skimage.feature import corner_harris, corner_subpix, corner_peaks, corner_shi_tomasi\n",
    "\n",
    "immatrix = np.array([img_inverse_colors(rgba_to_int(np.array(Image.open(im)))) for im in images], 'f')\n",
    "\n",
    "for x in range(4):\n",
    "    image = immatrix[x]\n",
    "    \n",
    "    coords = corner_peaks(corner_harris(image, k = 0.0001), num_peaks=5, exclude_border=False)\n",
    "\n",
    "    coords_subpix = corner_subpix(image, coords, window_size=13)\n",
    "\n",
    "    fig, ax = plt.subplots()\n",
    "    ax.imshow(image, interpolation='nearest', cmap=plt.cm.gray)\n",
    "    ax.plot(coords[:, 1], coords[:, 0], '.r', markersize=8)\n",
    "    ax.plot(coords_subpix[:, 1], coords_subpix[:, 0], '+y', markersize=15)\n",
    "    ax.axis((0, len(image), len(image[0]), 0))"
   ]
  },
  {
   "cell_type": "markdown",
   "metadata": {},
   "source": [
    "### Okej, uz je to lepsie. Skusim sa teraz pozriet na celu abecedu."
   ]
  },
  {
   "cell_type": "code",
   "execution_count": 125,
   "metadata": {},
   "outputs": [],
   "source": [
    "from skimage.feature import corner_harris, corner_subpix, corner_peaks, corner_shi_tomasi\n",
    "\n",
    "def get_image_corner_peaks(image, k = 0.000001):\n",
    "    return corner_peaks(corner_harris(image, k), exclude_border=False)\n",
    "\n",
    "\n",
    "def show_image_corner_peaks(image):\n",
    "    coords = get_image_corner_peaks(image)\n",
    "    \n",
    "    coords_subpix = corner_subpix(image, coords, window_size=13)\n",
    "\n",
    "    fig, ax = plt.subplots()\n",
    "    ax.imshow(image, interpolation='nearest', cmap=plt.cm.gray)\n",
    "    ax.plot(coords[:, 1], coords[:, 0], '.r', markersize=8)\n",
    "    ax.plot(coords_subpix[:, 1], coords_subpix[:, 0], '+y', markersize=15)\n",
    "    ax.axis((0, len(image), len(image[0]), 0))"
   ]
  },
  {
   "cell_type": "markdown",
   "metadata": {},
   "source": [
    "Nacitame obrazky."
   ]
  },
  {
   "cell_type": "code",
   "execution_count": 126,
   "metadata": {},
   "outputs": [],
   "source": [
    "immatrix = np.array([img_inverse_colors(rgba_to_int(np.array(Image.open(im)))) for im in images], 'f')"
   ]
  },
  {
   "cell_type": "markdown",
   "metadata": {},
   "source": [
    "Zobrazime si cornery jednej abecedy."
   ]
  },
  {
   "cell_type": "code",
   "execution_count": 128,
   "metadata": {},
   "outputs": [
    {
     "name": "stderr",
     "output_type": "stream",
     "text": [
      "/usr/local/lib/python3.7/site-packages/matplotlib/pyplot.py:514: RuntimeWarning: More than 20 figures have been opened. Figures created through the pyplot interface (`matplotlib.pyplot.figure`) are retained until explicitly closed and may consume too much memory. (To control this warning, see the rcParam `figure.max_open_warning`).\n",
      "  max_open_warning, RuntimeWarning)\n"
     ]
    },
    {
     "data": {
      "image/png": "[encoded data removed]",
      "text/plain": [
       "<Figure size 432x288 with 1 Axes>"
      ]
     },
     "metadata": {
      "needs_background": "light"
     },
     "output_type": "display_data"
    },
    {
     "data": {
      "image/png": "[encoded data removed]",
      "text/plain": [
       "<Figure size 432x288 with 1 Axes>"
      ]
     },
     "metadata": {
      "needs_background": "light"
     },
     "output_type": "display_data"
    },
    {
     "data": {
      "image/png": "[encoded data removed]",
      "text/plain": [
       "<Figure size 432x288 with 1 Axes>"
      ]
     },
     "metadata": {
      "needs_background": "light"
     },
     "output_type": "display_data"
    },
    {
     "data": {
      "image/png": "[encoded data removed]",
      "text/plain": [
       "<Figure size 432x288 with 1 Axes>"
      ]
     },
     "metadata": {
      "needs_background": "light"
     },
     "output_type": "display_data"
    },
    {
     "data": {
      "image/png": "[encoded data removed]",
      "text/plain": [
       "<Figure size 432x288 with 1 Axes>"
      ]
     },
     "metadata": {
      "needs_background": "light"
     },
     "output_type": "display_data"
    },
    {
     "data": {
      "image/png": "[encoded data removed]",
      "text/plain": [
       "<Figure size 432x288 with 1 Axes>"
      ]
     },
     "metadata": {
      "needs_background": "light"
     },
     "output_type": "display_data"
    },
    {
     "data": {
      "image/png": "[encoded data removed]",
      "text/plain": [
       "<Figure size 432x288 with 1 Axes>"
      ]
     },
     "metadata": {
      "needs_background": "light"
     },
     "output_type": "display_data"
    },
    {
     "data": {
      "image/png": "[encoded data removed]",
      "text/plain": [
       "<Figure size 432x288 with 1 Axes>"
      ]
     },
     "metadata": {
      "needs_background": "light"
     },
     "output_type": "display_data"
    },
    {
     "data": {
      "image/png": "[encoded data removed]",
      "text/plain": [
       "<Figure size 432x288 with 1 Axes>"
      ]
     },
     "metadata": {
      "needs_background": "light"
     },
     "output_type": "display_data"
    },
    {
     "data": {
      "image/png": "[encoded data removed]",
      "text/plain": [
       "<Figure size 432x288 with 1 Axes>"
      ]
     },
     "metadata": {
      "needs_background": "light"
     },
     "output_type": "display_data"
    },
    {
     "data": {
      "image/png": "[encoded data removed]",
      "text/plain": [
       "<Figure size 432x288 with 1 Axes>"
      ]
     },
     "metadata": {
      "needs_background": "light"
     },
     "output_type": "display_data"
    },
    {
     "data": {
      "image/png": "[encoded data removed]",
      "text/plain": [
       "<Figure size 432x288 with 1 Axes>"
      ]
     },
     "metadata": {
      "needs_background": "light"
     },
     "output_type": "display_data"
    },
    {
     "data": {
      "image/png": "[encoded data removed]",
      "text/plain": [
       "<Figure size 432x288 with 1 Axes>"
      ]
     },
     "metadata": {
      "needs_background": "light"
     },
     "output_type": "display_data"
    },
    {
     "data": {
      "image/png": "[encoded data removed]",
      "text/plain": [
       "<Figure size 432x288 with 1 Axes>"
      ]
     },
     "metadata": {
      "needs_background": "light"
     },
     "output_type": "display_data"
    },
    {
     "data": {
      "image/png": "[encoded data removed]",
      "text/plain": [
       "<Figure size 432x288 with 1 Axes>"
      ]
     },
     "metadata": {
      "needs_background": "light"
     },
     "output_type": "display_data"
    },
    {
     "data": {
      "image/png": "[encoded data removed]",
      "text/plain": [
       "<Figure size 432x288 with 1 Axes>"
      ]
     },
     "metadata": {
      "needs_background": "light"
     },
     "output_type": "display_data"
    },
    {
     "data": {
      "image/png": "[encoded data removed]",
      "text/plain": [
       "<Figure size 432x288 with 1 Axes>"
      ]
     },
     "metadata": {
      "needs_background": "light"
     },
     "output_type": "display_data"
    },
    {
     "data": {
      "image/png": "[encoded data removed]",
      "text/plain": [
       "<Figure size 432x288 with 1 Axes>"
      ]
     },
     "metadata": {
      "needs_background": "light"
     },
     "output_type": "display_data"
    },
    {
     "data": {
      "image/png": "[encoded data removed]",
      "text/plain": [
       "<Figure size 432x288 with 1 Axes>"
      ]
     },
     "metadata": {
      "needs_background": "light"
     },
     "output_type": "display_data"
    },
    {
     "data": {
      "image/png": "[encoded data removed]",
      "text/plain": [
       "<Figure size 432x288 with 1 Axes>"
      ]
     },
     "metadata": {
      "needs_background": "light"
     },
     "output_type": "display_data"
    },
    {
     "data": {
      "image/png": "[encoded data removed]",
      "text/plain": [
       "<Figure size 432x288 with 1 Axes>"
      ]
     },
     "metadata": {
      "needs_background": "light"
     },
     "output_type": "display_data"
    },
    {
     "data": {
      "image/png": "[encoded data removed]",
      "text/plain": [
       "<Figure size 432x288 with 1 Axes>"
      ]
     },
     "metadata": {
      "needs_background": "light"
     },
     "output_type": "display_data"
    },
    {
     "data": {
      "image/png": "[encoded data removed]",
      "text/plain": [
       "<Figure size 432x288 with 1 Axes>"
      ]
     },
     "metadata": {
      "needs_background": "light"
     },
     "output_type": "display_data"
    },
    {
     "data": {
      "image/png": "[encoded data removed]",
      "text/plain": [
       "<Figure size 432x288 with 1 Axes>"
      ]
     },
     "metadata": {
      "needs_background": "light"
     },
     "output_type": "display_data"
    },
    {
     "data": {
      "image/png": "[encoded data removed]",
      "text/plain": [
       "<Figure size 432x288 with 1 Axes>"
      ]
     },
     "metadata": {
      "needs_background": "light"
     },
     "output_type": "display_data"
    },
    {
     "data": {
      "image/png": "[encoded data removed]",
      "text/plain": [
       "<Figure size 432x288 with 1 Axes>"
      ]
     },
     "metadata": {
      "needs_background": "light"
     },
     "output_type": "display_data"
    }
   ],
   "source": [
    "for x in range(26):\n",
    "    show_image_corner_peaks(immatrix[x])"
   ]
  },
  {
   "cell_type": "markdown",
   "metadata": {},
   "source": [
    "### Taktiez si skusime zobrazit cornery pre jedno pismeno."
   ]
  },
  {
   "cell_type": "code",
   "execution_count": 76,
   "metadata": {},
   "outputs": [
    {
     "data": {
      "image/png": "[encoded data removed]",
      "text/plain": [
       "<Figure size 432x288 with 1 Axes>"
      ]
     },
     "metadata": {
      "needs_background": "light"
     },
     "output_type": "display_data"
    },
    {
     "data": {
      "image/png": "[encoded data removed]",
      "text/plain": [
       "<Figure size 432x288 with 1 Axes>"
      ]
     },
     "metadata": {
      "needs_background": "light"
     },
     "output_type": "display_data"
    },
    {
     "data": {
      "image/png": "[encoded data removed]",
      "text/plain": [
       "<Figure size 432x288 with 1 Axes>"
      ]
     },
     "metadata": {
      "needs_background": "light"
     },
     "output_type": "display_data"
    },
    {
     "data": {
      "image/png": "[encoded data removed]",
      "text/plain": [
       "<Figure size 432x288 with 1 Axes>"
      ]
     },
     "metadata": {
      "needs_background": "light"
     },
     "output_type": "display_data"
    },
    {
     "data": {
      "image/png": "[encoded data removed]",
      "text/plain": [
       "<Figure size 432x288 with 1 Axes>"
      ]
     },
     "metadata": {
      "needs_background": "light"
     },
     "output_type": "display_data"
    },
    {
     "data": {
      "image/png": "[encoded data removed]",
      "text/plain": [
       "<Figure size 432x288 with 1 Axes>"
      ]
     },
     "metadata": {
      "needs_background": "light"
     },
     "output_type": "display_data"
    },
    {
     "data": {
      "image/png": "[encoded data removed]",
      "text/plain": [
       "<Figure size 432x288 with 1 Axes>"
      ]
     },
     "metadata": {
      "needs_background": "light"
     },
     "output_type": "display_data"
    },
    {
     "data": {
      "image/png": "[encoded data removed]",
      "text/plain": [
       "<Figure size 432x288 with 1 Axes>"
      ]
     },
     "metadata": {
      "needs_background": "light"
     },
     "output_type": "display_data"
    },
    {
     "data": {
      "image/png": "[encoded data removed]",
      "text/plain": [
       "<Figure size 432x288 with 1 Axes>"
      ]
     },
     "metadata": {
      "needs_background": "light"
     },
     "output_type": "display_data"
    },
    {
     "data": {
      "image/png": "[encoded data removed]",
      "text/plain": [
       "<Figure size 432x288 with 1 Axes>"
      ]
     },
     "metadata": {
      "needs_background": "light"
     },
     "output_type": "display_data"
    },
    {
     "data": {
      "image/png": "[encoded data removed]",
      "text/plain": [
       "<Figure size 432x288 with 1 Axes>"
      ]
     },
     "metadata": {
      "needs_background": "light"
     },
     "output_type": "display_data"
    },
    {
     "data": {
      "image/png": "[encoded data removed]",
      "text/plain": [
       "<Figure size 432x288 with 1 Axes>"
      ]
     },
     "metadata": {
      "needs_background": "light"
     },
     "output_type": "display_data"
    },
    {
     "data": {
      "image/png": "[encoded data removed]",
      "text/plain": [
       "<Figure size 432x288 with 1 Axes>"
      ]
     },
     "metadata": {
      "needs_background": "light"
     },
     "output_type": "display_data"
    }
   ],
   "source": [
    "for x in range(1, 13 * 26, 26):\n",
    "    show_image_corner_peaks(immatrix[x])"
   ]
  },
  {
   "cell_type": "markdown",
   "metadata": {},
   "source": [
    "No vyzera to tak ze to deteguje celkom dobre pri roznych fontoch."
   ]
  },
  {
   "cell_type": "markdown",
   "metadata": {},
   "source": [
    "#### Skusim analyzovat pocty cornerov roznych fontov pre jednotlive pismena."
   ]
  },
  {
   "cell_type": "code",
   "execution_count": 77,
   "metadata": {},
   "outputs": [],
   "source": [
    "immatrix = np.array([img_inverse_colors(rgba_to_int(np.array(Image.open(im)))) for im in images], 'f')"
   ]
  },
  {
   "cell_type": "code",
   "execution_count": 78,
   "metadata": {},
   "outputs": [
    {
     "data": {
      "text/html": [
       "<div>\n",
       "<style scoped>\n",
       "    .dataframe tbody tr th:only-of-type {\n",
       "        vertical-align: middle;\n",
       "    }\n",
       "\n",
       "    .dataframe tbody tr th {\n",
       "        vertical-align: top;\n",
       "    }\n",
       "\n",
       "    .dataframe thead th {\n",
       "        text-align: right;\n",
       "    }\n",
       "</style>\n",
       "<table border=\"1\" class=\"dataframe\">\n",
       "  <thead>\n",
       "    <tr style=\"text-align: right;\">\n",
       "      <th></th>\n",
       "      <th>letter</th>\n",
       "      <th>corner count</th>\n",
       "    </tr>\n",
       "  </thead>\n",
       "  <tbody>\n",
       "    <tr>\n",
       "      <th>0</th>\n",
       "      <td>a</td>\n",
       "      <td>11</td>\n",
       "    </tr>\n",
       "    <tr>\n",
       "      <th>1</th>\n",
       "      <td>b</td>\n",
       "      <td>10</td>\n",
       "    </tr>\n",
       "    <tr>\n",
       "      <th>2</th>\n",
       "      <td>c</td>\n",
       "      <td>6</td>\n",
       "    </tr>\n",
       "    <tr>\n",
       "      <th>3</th>\n",
       "      <td>d</td>\n",
       "      <td>10</td>\n",
       "    </tr>\n",
       "    <tr>\n",
       "      <th>4</th>\n",
       "      <td>e</td>\n",
       "      <td>10</td>\n",
       "    </tr>\n",
       "  </tbody>\n",
       "</table>\n",
       "</div>"
      ],
      "text/plain": [
       "  letter  corner count\n",
       "0      a            11\n",
       "1      b            10\n",
       "2      c             6\n",
       "3      d            10\n",
       "4      e            10"
      ]
     },
     "execution_count": 78,
     "metadata": {},
     "output_type": "execute_result"
    }
   ],
   "source": [
    "letters = []\n",
    "corners = []\n",
    "\n",
    "for index, img in enumerate(immatrix):\n",
    "    letters.append(chr(ord('a') + (index % 26)))\n",
    "    corners.append(len(get_image_corner_peaks(img)))\n",
    "\n",
    "                            \n",
    "df = pd.DataFrame({ 'letter': letters, 'corner count': corners }, columns=['letter', 'corner count'])\n",
    "df.head()"
   ]
  },
  {
   "cell_type": "markdown",
   "metadata": {},
   "source": [
    "### Vysledky si vizualizujem."
   ]
  },
  {
   "cell_type": "code",
   "execution_count": 79,
   "metadata": {},
   "outputs": [
    {
     "data": {
      "text/plain": [
       "<seaborn.axisgrid.FacetGrid at 0x11f8814e0>"
      ]
     },
     "execution_count": 79,
     "metadata": {},
     "output_type": "execute_result"
    },
    {
     "data": {
      "image/png": "[encoded data removed]",
      "text/plain": [
       "<Figure size 576x1260 with 26 Axes>"
      ]
     },
     "metadata": {
      "needs_background": "light"
     },
     "output_type": "display_data"
    }
   ],
   "source": [
    "sb.catplot(\"corner count\", col=\"letter\", col_wrap=4, data=df, kind=\"count\", height=2.5, aspect=.8)"
   ]
  },
  {
   "cell_type": "markdown",
   "metadata": {},
   "source": [
    "__Vysledok je celkom... smutny alebo zaujimavy???.__\n",
    "\n",
    "__Rovnaky pocet cornerov jedneho pismena pri roznych fotoch ma pismeno z a x. U ostatnych fontoch je toto cislo dost rozne.__"
   ]
  },
  {
   "cell_type": "markdown",
   "metadata": {},
   "source": [
    "__Na detekciu hran existuje viacero algoritmov, ja som konkretne pouzil Harrisov algoritmus.__\n",
    "\n",
    "__V scikite je k dispozicii viacero algoritmov, vyskusal som vsetky s roznymi parametrami.__\n",
    "\n",
    "__Myslim si, ze daju sa dosiahnut aj lepsie vysledky ale to by som musel tymto algoritmom aj rozmumiet, aby som vybral ten spravny a vedel ho aj spravne nastavit.\n",
    "Kebyze mam viac casu, mozno by som sa na to dal. Zatial to necham takto ako to je.__"
   ]
  },
  {
   "cell_type": "markdown",
   "metadata": {},
   "source": [
    "TODO: Skusit na zistenych suradniciach zmenit hodnotu pixelov."
   ]
  },
  {
   "cell_type": "markdown",
   "metadata": {},
   "source": [
    "## Skusim spravit este detekciu hran."
   ]
  },
  {
   "cell_type": "code",
   "execution_count": 168,
   "metadata": {},
   "outputs": [],
   "source": [
    "immatrix = np.array([img_inverse_colors(rgba_to_int(np.array(Image.open(im)))) for im in images], 'f')"
   ]
  },
  {
   "cell_type": "markdown",
   "metadata": {},
   "source": [
    "#### Skusim dva dostupne algoritmy zo scikit learn."
   ]
  },
  {
   "cell_type": "code",
   "execution_count": 144,
   "metadata": {},
   "outputs": [
    {
     "data": {
      "image/png": "[encoded data removed]",
      "text/plain": [
       "<Figure size 1080x360 with 2 Axes>"
      ]
     },
     "metadata": {
      "needs_background": "light"
     },
     "output_type": "display_data"
    },
    {
     "data": {
      "image/png": "[encoded data removed]",
      "text/plain": [
       "<Figure size 1080x360 with 2 Axes>"
      ]
     },
     "metadata": {
      "needs_background": "light"
     },
     "output_type": "display_data"
    }
   ],
   "source": [
    "from skimage.transform import hough_line, hough_line_peaks, probabilistic_hough_line\n",
    "\n",
    "def hough_line_show(lines):\n",
    "    # Classic straight-line Hough transform\n",
    "    h, theta, d = lines\n",
    "\n",
    "    # Generating figure 1\n",
    "    fig, axes = plt.subplots(1, 2, figsize=(15, 5))\n",
    "    ax = axes.ravel()\n",
    "\n",
    "    ax[0].imshow(image, cmap=cm.gray)\n",
    "    ax[0].set_title('Input image')\n",
    "    ax[0].set_axis_off()\n",
    "\n",
    "    ax[1].imshow(image, cmap=cm.gray)\n",
    "\n",
    "    for _, angle, dist in zip(*hough_line_peaks(h, theta, d)):\n",
    "        y0 = (dist - 0 * np.cos(angle)) / np.sin(angle)\n",
    "        y1 = (dist - image.shape[1] * np.cos(angle)) / np.sin(angle)\n",
    "        ax[1].plot((0, image.shape[1]), (y0, y1), '-r')\n",
    "\n",
    "    ax[1].set_xlim((0, image.shape[1]))\n",
    "    ax[1].set_ylim((image.shape[0], 0))\n",
    "    ax[1].set_axis_off()\n",
    "    ax[1].set_title('Detected lines')\n",
    "\n",
    "    plt.tight_layout()\n",
    "    plt.show()\n",
    "    \n",
    "def probabilistic_hough_line_show(lines):\n",
    "    # Generating figure 2\n",
    "    fig, axes = plt.subplots(1, 2, figsize=(15, 5), sharex=True, sharey=True)\n",
    "    ax = axes.ravel()\n",
    "\n",
    "    ax[0].imshow(image, cmap=cm.gray)\n",
    "    ax[0].set_title('Input image')\n",
    "\n",
    "\n",
    "    ax[1].imshow(edges * 0)\n",
    "\n",
    "    for line in lines:\n",
    "        p0, p1 = line\n",
    "        ax[1].plot((p0[0], p1[0]), (p0[1], p1[1]))\n",
    "\n",
    "    ax[1].set_xlim((0, image.shape[1]))\n",
    "    ax[1].set_ylim((image.shape[0], 0))\n",
    "    ax[1].set_title('Probabilistic Hough')\n",
    "\n",
    "    for a in ax:\n",
    "        a.set_axis_off()\n",
    "\n",
    "    plt.tight_layout()\n",
    "    plt.show()\n",
    "    \n",
    "\n",
    "hough_line_show(hough_line(immatrix[0]))\n",
    "probabilistic_hough_line_show(probabilistic_hough_line(canny(immatrix[0], 2, 1, 25), threshold=10, line_length=5, line_gap=3))"
   ]
  },
  {
   "cell_type": "markdown",
   "metadata": {},
   "source": [
    "Prvy pokus dopadol zaujimavo, zatial vyzera ze s probabilistic_hough_line algoritmom sa bude pracovat lepsie, skusim vytunit ten."
   ]
  },
  {
   "cell_type": "markdown",
   "metadata": {},
   "source": [
    "Zrusim line_gap uplne. Nastavim parametre tak aby to vyzeralo co najlepsie."
   ]
  },
  {
   "cell_type": "code",
   "execution_count": 149,
   "metadata": {},
   "outputs": [
    {
     "data": {
      "image/png": "[encoded data removed]",
      "text/plain": [
       "<Figure size 1080x360 with 2 Axes>"
      ]
     },
     "metadata": {
      "needs_background": "light"
     },
     "output_type": "display_data"
    }
   ],
   "source": [
    "probabilistic_hough_line_show(probabilistic_hough_line(canny(immatrix[0], 2, 1, 25), threshold=8, line_length=5, line_gap=0))"
   ]
  },
  {
   "cell_type": "markdown",
   "metadata": {},
   "source": [
    "Tuto konfiguraciu si vyskusam na vsetkych pismenach a vypisem si pocet zistenych ciar."
   ]
  },
  {
   "cell_type": "code",
   "execution_count": 154,
   "metadata": {},
   "outputs": [],
   "source": [
    "def try_something_pls(fn):\n",
    "    letters = []\n",
    "    corners = []\n",
    "\n",
    "    for index, img in enumerate(immatrix):\n",
    "        letters.append(chr(ord('a') + (index % 26)))\n",
    "        corners.append(len(fn(img)))\n",
    "\n",
    "\n",
    "    df = pd.DataFrame({ 'letter': letters, 'line count': corners }, columns=['letter', 'line count'])\n",
    "    df.head()\n",
    "\n",
    "    sb.catplot(\"line count\", col=\"letter\", col_wrap=4, data=df, kind=\"count\", height=2.5, aspect=.8)"
   ]
  },
  {
   "cell_type": "markdown",
   "metadata": {},
   "source": [
    "Urobil som si takuto funkciu, do nej budem davat lambdu a nastavovat parametre detekcie ciar a budem sledovat graf, skusim vybrat co najlepsi config."
   ]
  },
  {
   "cell_type": "code",
   "execution_count": 169,
   "metadata": {},
   "outputs": [
    {
     "data": {
      "image/png": "[encoded data removed]",
      "text/plain": [
       "<Figure size 576x1260 with 26 Axes>"
      ]
     },
     "metadata": {
      "needs_background": "light"
     },
     "output_type": "display_data"
    }
   ],
   "source": [
    "try_something_pls(lambda img: probabilistic_hough_line(canny(img, 2, 1, 25), threshold=12, line_length=8, line_gap=0))"
   ]
  },
  {
   "cell_type": "markdown",
   "metadata": {},
   "source": [
    "Toto vyzera byt okej."
   ]
  },
  {
   "cell_type": "code",
   "execution_count": 203,
   "metadata": {},
   "outputs": [],
   "source": [
    "def add_line_counts(immatrix):\n",
    "    def fn(item):\n",
    "        index, zipped = item\n",
    "        img, img2d = zipped\n",
    "        \n",
    "        lines = probabilistic_hough_line(canny(img2d, 2, 1, 25), threshold=12, line_length=8, line_gap=0)\n",
    "        img = np.append(img, [len(lines)])\n",
    "        return img\n",
    "\n",
    "    return list(map(fn, enumerate(immatrix)))\n",
    "\n",
    "def add_corner_counts(immatrix):\n",
    "    def fn(item):\n",
    "        index, zipped = item\n",
    "        img, img2d = zipped\n",
    "        \n",
    "        lines = get_image_corner_peaks(img2d)\n",
    "        img = np.append(img, [len(lines)])\n",
    "        return img\n",
    "\n",
    "    return list(map(fn, enumerate(immatrix)))"
   ]
  },
  {
   "cell_type": "markdown",
   "metadata": {},
   "source": [
    "### Skusim pridat informacie o pocte lineov a pocte conerov."
   ]
  },
  {
   "cell_type": "code",
   "execution_count": 204,
   "metadata": {},
   "outputs": [
    {
     "name": "stdout",
     "output_type": "stream",
     "text": [
      "homogeneity_score: 0.5645550687135842\n",
      "completeness_score: 0.6121209293440188\n"
     ]
    }
   ],
   "source": [
    "immatrix = np.array([normalize_colors_in_image(np.array(rgba_to_int(np.array(Image.open(im)))).flatten()) for im in images], 'f')\n",
    "immatrix_2d = np.array([img_inverse_colors(rgba_to_int(np.array(Image.open(im)))) for im in images], 'f')\n",
    "\n",
    "immatrix = add_board_counts(immatrix)\n",
    "immatrix = add_line_counts(zip(immatrix, immatrix_2d))\n",
    "immatrix = add_corner_counts(zip(immatrix, immatrix_2d))\n",
    "\n",
    "cls = KMeans(n_clusters=26, random_state=420)\n",
    "kmeans = cls.fit(immatrix)\n",
    "clusters = kmeans.labels_\n",
    "\n",
    "score(y_test, clusters)"
   ]
  },
  {
   "cell_type": "markdown",
   "metadata": {},
   "source": [
    "### Mam lepsiu homogenity_score aj completness_score.\n",
    "### Predtym som mal s KMEANS.\n",
    "\n",
    "### homogeneity_score: 0.556813928824347\n",
    "### completeness_score: 0.5808456687316006\n",
    "\n",
    "### Rozdiel je vacsi len o trocha ale stale potesi"
   ]
  },
  {
   "cell_type": "markdown",
   "metadata": {},
   "source": [
    "### Neviem ci ma este zmysel skusat ine algoritmy, kedze mi vacsinou performovali horsie. V tomto momente by som uz asi skoncil."
   ]
  },
  {
   "cell_type": "markdown",
   "metadata": {},
   "source": [
    "### Stale vidim priestro na zlepsenie, najma v image processingu"
   ]
  }
 ],
 "metadata": {
  "kernelspec": {
   "display_name": "Python 3",
   "language": "python",
   "name": "python3"
  },
  "language_info": {
   "codemirror_mode": {
    "name": "ipython",
    "version": 3
   },
   "file_extension": ".py",
   "mimetype": "text/x-python",
   "name": "python",
   "nbconvert_exporter": "python",
   "pygments_lexer": "ipython3",
   "version": "3.7.1"
  }
 },
 "nbformat": 4,
 "nbformat_minor": 2
}
